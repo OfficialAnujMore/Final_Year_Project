{
 "cells": [
  {
   "cell_type": "code",
   "execution_count": 60,
   "metadata": {},
   "outputs": [],
   "source": [
    "import pandas as pd\n",
    "import numpy as np\n",
    "import random\n",
    "import seaborn as sns\n",
    "import time\n",
    "import matplotlib.pyplot as plt \n",
    "import random\n",
    "import csv "
   ]
  },
  {
   "cell_type": "code",
   "execution_count": null,
   "metadata": {},
   "outputs": [],
   "source": []
  },
  {
   "cell_type": "code",
   "execution_count": 61,
   "metadata": {},
   "outputs": [
    {
     "data": {
      "text/plain": [
       "<Figure size 1440x720 with 0 Axes>"
      ]
     },
     "execution_count": 61,
     "metadata": {},
     "output_type": "execute_result"
    },
    {
     "data": {
      "text/plain": [
       "<Figure size 1440x720 with 0 Axes>"
      ]
     },
     "metadata": {},
     "output_type": "display_data"
    }
   ],
   "source": [
    "pd.set_option('display.max_rows',300)\n",
    "pd.set_option('display.max_columns',100)\n",
    "pd.set_option('max_colwidth',800)\n",
    "\n",
    "plt.figure(figsize=(20,10))\n",
    "# plt.subplots(figsize=(20,20))"
   ]
  },
  {
   "cell_type": "code",
   "execution_count": 62,
   "metadata": {},
   "outputs": [],
   "source": [
    "android_dev = pd.read_csv('../datasets/Android_Developer.csv')\n",
    "ai = pd.read_csv('../datasets/Artificial_Intilligence.csv')\n",
    "backend_dev = pd.read_csv('../datasets/Backend_Developer.csv')\n",
    "business_analyst = pd.read_csv('../datasets/Business_Analyst.csv')\n",
    "cloud_computing = pd.read_csv('../datasets/Cloud_Computing.csv')\n",
    "data_analyst = pd.read_csv('../datasets/Data_Analyst.csv')\n",
    "data_scientist = pd.read_csv('../datasets/Data_Scientist.csv')\n",
    "deep_learning = pd.read_csv('../datasets/Deep_Learning.csv')\n",
    "devops = pd.read_csv('../datasets/Devops_Engineer.csv')\n",
    "flutter_dev = pd.read_csv('../datasets/Flutter_Developer.csv')\n",
    "full_stack_dev = pd.read_csv('../datasets/Full_Stack_Developer.csv')\n",
    "game_artist = pd.read_csv('../datasets/Game_Artist.csv')\n",
    "game_designer = pd.read_csv('../datasets/Game_Designer.csv')\n",
    "game_developer = pd.read_csv('../datasets/Game_Developer.csv')\n",
    "iOS_dev = pd.read_csv('../datasets/iOS_Developer.csv')\n",
    "java_dev = pd.read_csv('../datasets/Java_Developer.csv')\n",
    "ml = pd.read_csv('../datasets/Machine_Learning.csv')\n",
    "mean = pd.read_csv('../datasets/MEAN_Stack_Developer.csv')\n",
    "mern = pd.read_csv('../datasets/MERN_Stack_Developer.csv')\n",
    "net_security_engg = pd.read_csv('../datasets/Network_Security_Engineer.csv')\n",
    "node_js = pd.read_csv('../datasets/Node_Js_Developer.csv')\n",
    "php_dev = pd.read_csv('../datasets/PHP_Developer.csv')\n",
    "py_dev = pd.read_csv('../datasets/Python_Developer.csv')\n",
    "react_js= pd.read_csv('../datasets/React_Js_Developer.csv')\n",
    "react_native_dev = pd.read_csv('../datasets/React_Native_Developer.csv')\n",
    "sys_admin = pd.read_csv('../datasets/System_Administrator.csv')\n",
    "ui_ux = pd.read_csv('../datasets/UI_UX_Developer.csv')\n",
    "web_dev = pd.read_csv('../datasets/Web_Developer.csv')"
   ]
  },
  {
   "cell_type": "code",
   "execution_count": 63,
   "metadata": {},
   "outputs": [
    {
     "name": "stdout",
     "output_type": "stream",
     "text": [
      "28\n"
     ]
    }
   ],
   "source": [
    "filename = [ android_dev, ai, backend_dev, business_analyst, cloud_computing, data_analyst, data_scientist, \n",
    "            deep_learning, devops, flutter_dev, full_stack_dev, game_artist, game_designer,game_developer, iOS_dev, java_dev, ml, mean, mern, \n",
    "            net_security_engg, node_js, php_dev, py_dev, react_js, react_native_dev, sys_admin, ui_ux, web_dev]\n",
    "print(len(filename))"
   ]
  },
  {
   "cell_type": "code",
   "execution_count": 64,
   "metadata": {},
   "outputs": [
    {
     "data": {
      "text/html": [
       "<div>\n",
       "<style scoped>\n",
       "    .dataframe tbody tr th:only-of-type {\n",
       "        vertical-align: middle;\n",
       "    }\n",
       "\n",
       "    .dataframe tbody tr th {\n",
       "        vertical-align: top;\n",
       "    }\n",
       "\n",
       "    .dataframe thead th {\n",
       "        text-align: right;\n",
       "    }\n",
       "</style>\n",
       "<table border=\"1\" class=\"dataframe\">\n",
       "  <thead>\n",
       "    <tr style=\"text-align: right;\">\n",
       "      <th></th>\n",
       "      <th>Job_Name</th>\n",
       "      <th>Company_Name</th>\n",
       "      <th>Location</th>\n",
       "      <th>Salary</th>\n",
       "      <th>Description</th>\n",
       "      <th>Skills</th>\n",
       "    </tr>\n",
       "  </thead>\n",
       "  <tbody>\n",
       "    <tr>\n",
       "      <th>0</th>\n",
       "      <td>Python Developer</td>\n",
       "      <td>Computronics International Ltd</td>\n",
       "      <td>Kailash Colony, Delhi, Delhi</td>\n",
       "      <td>224514 - 1078080</td>\n",
       "      <td>Coordinating with front-end developers.We are looking for an experienced Python developer to join our engineering team and help us create dynamic software…</td>\n",
       "      <td>Core Python,Web Frameworks,Object Relational Mappers,Data Scientists,achine Learning Skill,Artificial Intelligence,Deep Learning,Multi-Process Architecture,Analytical Skills,Design Skills,Communication Skills,Version Control,Front-End Technologies Knowledge,The Ability of Integration,Server-Side Templating Language,Event-Driven programming, Good Debugging,Unit Test Skills,Code Versioning, Database Schemas Creation Ability, Logical Thinking Ability</td>\n",
       "    </tr>\n",
       "    <tr>\n",
       "      <th>1</th>\n",
       "      <td>Python/Django Developer</td>\n",
       "      <td>virtualwebs servers Pvt Ltd</td>\n",
       "      <td>NaN</td>\n",
       "      <td>25000 - 30000</td>\n",
       "      <td>We are looking to hire software developers with experience of about 2 to 3 years in python and Django.Python Developer responsibilities include writing and…</td>\n",
       "      <td>Core Python,Web Frameworks,Object Relational Mappers,Data Scientists,achine Learning Skill,Artificial Intelligence,Deep Learning,Multi-Process Architecture,Analytical Skills,Design Skills,Communication Skills,Version Control,Front-End Technologies Knowledge,The Ability of Integration,Server-Side Templating Language,Event-Driven programming, Good Debugging,Unit Test Skills,Code Versioning, Database Schemas Creation Ability, Logical Thinking Ability</td>\n",
       "    </tr>\n",
       "    <tr>\n",
       "      <th>2</th>\n",
       "      <td>Python/Django Developer</td>\n",
       "      <td>Antonal Technologies</td>\n",
       "      <td>Kochi, Kerala</td>\n",
       "      <td>10000 - 20000</td>\n",
       "      <td>Hands-on programming experience in building web applications using python and Django.We are looking for an experienced Python/Django developer to join our…</td>\n",
       "      <td>Core Python,Web Frameworks,Object Relational Mappers,Data Scientists,achine Learning Skill,Artificial Intelligence,Deep Learning,Multi-Process Architecture,Analytical Skills,Design Skills,Communication Skills,Version Control,Front-End Technologies Knowledge,The Ability of Integration,Server-Side Templating Language,Event-Driven programming, Good Debugging,Unit Test Skills,Code Versioning, Database Schemas Creation Ability, Logical Thinking Ability</td>\n",
       "    </tr>\n",
       "    <tr>\n",
       "      <th>3</th>\n",
       "      <td>Python Developer</td>\n",
       "      <td>Xpheno</td>\n",
       "      <td>Bengaluru, Karnataka</td>\n",
       "      <td>NaN</td>\n",
       "      <td>Python Backend developer, Django and Restful API.Talent 500 is redefining talent acquisition for leading enterprises.Data Structure, Algothorium and OOPS etc.</td>\n",
       "      <td>Core Python,Web Frameworks,Object Relational Mappers,Data Scientists,achine Learning Skill,Artificial Intelligence,Deep Learning,Multi-Process Architecture,Analytical Skills,Design Skills,Communication Skills,Version Control,Front-End Technologies Knowledge,The Ability of Integration,Server-Side Templating Language,Event-Driven programming, Good Debugging,Unit Test Skills,Code Versioning, Database Schemas Creation Ability, Logical Thinking Ability</td>\n",
       "    </tr>\n",
       "    <tr>\n",
       "      <th>4</th>\n",
       "      <td>Python/Django Developer</td>\n",
       "      <td>Techamic Solutions</td>\n",
       "      <td>Noida, Uttar Pradesh</td>\n",
       "      <td>500000 - 800000</td>\n",
       "      <td>We are hiring Python Developer having strong knowledge on Python and Django.You must have more than 4-5 years of experience in software development and 2 years…</td>\n",
       "      <td>Core Python,Web Frameworks,Object Relational Mappers,Data Scientists,achine Learning Skill,Artificial Intelligence,Deep Learning,Multi-Process Architecture,Analytical Skills,Design Skills,Communication Skills,Version Control,Front-End Technologies Knowledge,The Ability of Integration,Server-Side Templating Language,Event-Driven programming, Good Debugging,Unit Test Skills,Code Versioning, Database Schemas Creation Ability, Logical Thinking Ability</td>\n",
       "    </tr>\n",
       "    <tr>\n",
       "      <th>...</th>\n",
       "      <td>...</td>\n",
       "      <td>...</td>\n",
       "      <td>...</td>\n",
       "      <td>...</td>\n",
       "      <td>...</td>\n",
       "      <td>...</td>\n",
       "    </tr>\n",
       "    <tr>\n",
       "      <th>497</th>\n",
       "      <td>Backend Developer</td>\n",
       "      <td>La Net Team Software Solutions</td>\n",
       "      <td>Bengaluru, Karnataka</td>\n",
       "      <td>760000</td>\n",
       "      <td>A2IT is a leading software development company in Mohali Chandigarh with expertise in both Cloud-based Applications and Web applications.</td>\n",
       "      <td>Core Python,Web Frameworks,Object Relational Mappers,Data Scientists,achine Learning Skill,Artificial Intelligence,Deep Learning,Multi-Process Architecture,Analytical Skills,Design Skills,Communication Skills,Version Control,Front-End Technologies Knowledge,The Ability of Integration,Server-Side Templating Language,Event-Driven programming, Good Debugging,Unit Test Skills,Code Versioning, Database Schemas Creation Ability, Logical Thinking Ability</td>\n",
       "    </tr>\n",
       "    <tr>\n",
       "      <th>498</th>\n",
       "      <td>Senior Developer INFA IDQ</td>\n",
       "      <td>IDP Education Ltd</td>\n",
       "      <td>NaN</td>\n",
       "      <td>540000</td>\n",
       "      <td>We plan to offer a salary of Rs.10-15 lakh per annum for senior developers (more than 5 years experience.We are looking for expert Odoo developers (5+ years…</td>\n",
       "      <td>Core Python,Web Frameworks,Object Relational Mappers,Data Scientists,achine Learning Skill,Artificial Intelligence,Deep Learning,Multi-Process Architecture,Analytical Skills,Design Skills,Communication Skills,Version Control,Front-End Technologies Knowledge,The Ability of Integration,Server-Side Templating Language,Event-Driven programming, Good Debugging,Unit Test Skills,Code Versioning, Database Schemas Creation Ability, Logical Thinking Ability</td>\n",
       "    </tr>\n",
       "    <tr>\n",
       "      <th>499</th>\n",
       "      <td>Senior Developer INFA IDQ</td>\n",
       "      <td>Toolyt</td>\n",
       "      <td>Chennai, Tamil Nadu</td>\n",
       "      <td>490000</td>\n",
       "      <td>We are looking for a Python Developer to join our team and help us develop and maintain various software products.Improve functionality of existing systems.</td>\n",
       "      <td>Core Python,Web Frameworks,Object Relational Mappers,Data Scientists,achine Learning Skill,Artificial Intelligence,Deep Learning,Multi-Process Architecture,Analytical Skills,Design Skills,Communication Skills,Version Control,Front-End Technologies Knowledge,The Ability of Integration,Server-Side Templating Language,Event-Driven programming, Good Debugging,Unit Test Skills,Code Versioning, Database Schemas Creation Ability, Logical Thinking Ability</td>\n",
       "    </tr>\n",
       "    <tr>\n",
       "      <th>500</th>\n",
       "      <td>Senior Developer INFA IDQ</td>\n",
       "      <td>Click2Cloud</td>\n",
       "      <td>Bengaluru, Karnataka</td>\n",
       "      <td>470000</td>\n",
       "      <td>We plan to offer a salary of Rs.10-15 lakh per annum for senior developers (more than 5 years experience.We are looking for expert Odoo developers (5+ years…</td>\n",
       "      <td>Core Python,Web Frameworks,Object Relational Mappers,Data Scientists,achine Learning Skill,Artificial Intelligence,Deep Learning,Multi-Process Architecture,Analytical Skills,Design Skills,Communication Skills,Version Control,Front-End Technologies Knowledge,The Ability of Integration,Server-Side Templating Language,Event-Driven programming, Good Debugging,Unit Test Skills,Code Versioning, Database Schemas Creation Ability, Logical Thinking Ability</td>\n",
       "    </tr>\n",
       "    <tr>\n",
       "      <th>501</th>\n",
       "      <td>AWS Python developer</td>\n",
       "      <td>FOSLIPY PVT LTD</td>\n",
       "      <td>NaN</td>\n",
       "      <td>790000</td>\n",
       "      <td>VERTOZ Advertising Ltd is a leading programmatic company that offers engaging and innovative advertising and monetization solutions.</td>\n",
       "      <td>Core Python,Web Frameworks,Object Relational Mappers,Data Scientists,achine Learning Skill,Artificial Intelligence,Deep Learning,Multi-Process Architecture,Analytical Skills,Design Skills,Communication Skills,Version Control,Front-End Technologies Knowledge,The Ability of Integration,Server-Side Templating Language,Event-Driven programming, Good Debugging,Unit Test Skills,Code Versioning, Database Schemas Creation Ability, Logical Thinking Ability</td>\n",
       "    </tr>\n",
       "  </tbody>\n",
       "</table>\n",
       "<p>502 rows × 6 columns</p>\n",
       "</div>"
      ],
      "text/plain": [
       "                      Job_Name                    Company_Name  \\\n",
       "0             Python Developer  Computronics International Ltd   \n",
       "1      Python/Django Developer     virtualwebs servers Pvt Ltd   \n",
       "2      Python/Django Developer            Antonal Technologies   \n",
       "3             Python Developer                          Xpheno   \n",
       "4      Python/Django Developer              Techamic Solutions   \n",
       "..                         ...                             ...   \n",
       "497          Backend Developer  La Net Team Software Solutions   \n",
       "498  Senior Developer INFA IDQ               IDP Education Ltd   \n",
       "499  Senior Developer INFA IDQ                          Toolyt   \n",
       "500  Senior Developer INFA IDQ                     Click2Cloud   \n",
       "501       AWS Python developer                 FOSLIPY PVT LTD   \n",
       "\n",
       "                         Location            Salary  \\\n",
       "0    Kailash Colony, Delhi, Delhi  224514 - 1078080   \n",
       "1                             NaN     25000 - 30000   \n",
       "2                   Kochi, Kerala     10000 - 20000   \n",
       "3            Bengaluru, Karnataka               NaN   \n",
       "4            Noida, Uttar Pradesh   500000 - 800000   \n",
       "..                            ...               ...   \n",
       "497          Bengaluru, Karnataka            760000   \n",
       "498                           NaN            540000   \n",
       "499           Chennai, Tamil Nadu            490000   \n",
       "500          Bengaluru, Karnataka            470000   \n",
       "501                           NaN            790000   \n",
       "\n",
       "                                                                                                                                                          Description  \\\n",
       "0         Coordinating with front-end developers.We are looking for an experienced Python developer to join our engineering team and help us create dynamic software…   \n",
       "1        We are looking to hire software developers with experience of about 2 to 3 years in python and Django.Python Developer responsibilities include writing and…   \n",
       "2         Hands-on programming experience in building web applications using python and Django.We are looking for an experienced Python/Django developer to join our…   \n",
       "3      Python Backend developer, Django and Restful API.Talent 500 is redefining talent acquisition for leading enterprises.Data Structure, Algothorium and OOPS etc.   \n",
       "4    We are hiring Python Developer having strong knowledge on Python and Django.You must have more than 4-5 years of experience in software development and 2 years…   \n",
       "..                                                                                                                                                                ...   \n",
       "497                         A2IT is a leading software development company in Mohali Chandigarh with expertise in both Cloud-based Applications and Web applications.   \n",
       "498     We plan to offer a salary of Rs.10-15 lakh per annum for senior developers (more than 5 years experience.We are looking for expert Odoo developers (5+ years…   \n",
       "499      We are looking for a Python Developer to join our team and help us develop and maintain various software products.Improve functionality of existing systems.   \n",
       "500     We plan to offer a salary of Rs.10-15 lakh per annum for senior developers (more than 5 years experience.We are looking for expert Odoo developers (5+ years…   \n",
       "501                              VERTOZ Advertising Ltd is a leading programmatic company that offers engaging and innovative advertising and monetization solutions.   \n",
       "\n",
       "                                                                                                                                                                                                                                                                                                                                                                                                                                                                  Skills  \n",
       "0    Core Python,Web Frameworks,Object Relational Mappers,Data Scientists,achine Learning Skill,Artificial Intelligence,Deep Learning,Multi-Process Architecture,Analytical Skills,Design Skills,Communication Skills,Version Control,Front-End Technologies Knowledge,The Ability of Integration,Server-Side Templating Language,Event-Driven programming, Good Debugging,Unit Test Skills,Code Versioning, Database Schemas Creation Ability, Logical Thinking Ability  \n",
       "1    Core Python,Web Frameworks,Object Relational Mappers,Data Scientists,achine Learning Skill,Artificial Intelligence,Deep Learning,Multi-Process Architecture,Analytical Skills,Design Skills,Communication Skills,Version Control,Front-End Technologies Knowledge,The Ability of Integration,Server-Side Templating Language,Event-Driven programming, Good Debugging,Unit Test Skills,Code Versioning, Database Schemas Creation Ability, Logical Thinking Ability  \n",
       "2    Core Python,Web Frameworks,Object Relational Mappers,Data Scientists,achine Learning Skill,Artificial Intelligence,Deep Learning,Multi-Process Architecture,Analytical Skills,Design Skills,Communication Skills,Version Control,Front-End Technologies Knowledge,The Ability of Integration,Server-Side Templating Language,Event-Driven programming, Good Debugging,Unit Test Skills,Code Versioning, Database Schemas Creation Ability, Logical Thinking Ability  \n",
       "3    Core Python,Web Frameworks,Object Relational Mappers,Data Scientists,achine Learning Skill,Artificial Intelligence,Deep Learning,Multi-Process Architecture,Analytical Skills,Design Skills,Communication Skills,Version Control,Front-End Technologies Knowledge,The Ability of Integration,Server-Side Templating Language,Event-Driven programming, Good Debugging,Unit Test Skills,Code Versioning, Database Schemas Creation Ability, Logical Thinking Ability  \n",
       "4    Core Python,Web Frameworks,Object Relational Mappers,Data Scientists,achine Learning Skill,Artificial Intelligence,Deep Learning,Multi-Process Architecture,Analytical Skills,Design Skills,Communication Skills,Version Control,Front-End Technologies Knowledge,The Ability of Integration,Server-Side Templating Language,Event-Driven programming, Good Debugging,Unit Test Skills,Code Versioning, Database Schemas Creation Ability, Logical Thinking Ability  \n",
       "..                                                                                                                                                                                                                                                                                                                                                                                                                                                                   ...  \n",
       "497  Core Python,Web Frameworks,Object Relational Mappers,Data Scientists,achine Learning Skill,Artificial Intelligence,Deep Learning,Multi-Process Architecture,Analytical Skills,Design Skills,Communication Skills,Version Control,Front-End Technologies Knowledge,The Ability of Integration,Server-Side Templating Language,Event-Driven programming, Good Debugging,Unit Test Skills,Code Versioning, Database Schemas Creation Ability, Logical Thinking Ability  \n",
       "498  Core Python,Web Frameworks,Object Relational Mappers,Data Scientists,achine Learning Skill,Artificial Intelligence,Deep Learning,Multi-Process Architecture,Analytical Skills,Design Skills,Communication Skills,Version Control,Front-End Technologies Knowledge,The Ability of Integration,Server-Side Templating Language,Event-Driven programming, Good Debugging,Unit Test Skills,Code Versioning, Database Schemas Creation Ability, Logical Thinking Ability  \n",
       "499  Core Python,Web Frameworks,Object Relational Mappers,Data Scientists,achine Learning Skill,Artificial Intelligence,Deep Learning,Multi-Process Architecture,Analytical Skills,Design Skills,Communication Skills,Version Control,Front-End Technologies Knowledge,The Ability of Integration,Server-Side Templating Language,Event-Driven programming, Good Debugging,Unit Test Skills,Code Versioning, Database Schemas Creation Ability, Logical Thinking Ability  \n",
       "500  Core Python,Web Frameworks,Object Relational Mappers,Data Scientists,achine Learning Skill,Artificial Intelligence,Deep Learning,Multi-Process Architecture,Analytical Skills,Design Skills,Communication Skills,Version Control,Front-End Technologies Knowledge,The Ability of Integration,Server-Side Templating Language,Event-Driven programming, Good Debugging,Unit Test Skills,Code Versioning, Database Schemas Creation Ability, Logical Thinking Ability  \n",
       "501  Core Python,Web Frameworks,Object Relational Mappers,Data Scientists,achine Learning Skill,Artificial Intelligence,Deep Learning,Multi-Process Architecture,Analytical Skills,Design Skills,Communication Skills,Version Control,Front-End Technologies Knowledge,The Ability of Integration,Server-Side Templating Language,Event-Driven programming, Good Debugging,Unit Test Skills,Code Versioning, Database Schemas Creation Ability, Logical Thinking Ability  \n",
       "\n",
       "[502 rows x 6 columns]"
      ]
     },
     "execution_count": 64,
     "metadata": {},
     "output_type": "execute_result"
    }
   ],
   "source": [
    "py_dev"
   ]
  },
  {
   "cell_type": "code",
   "execution_count": 65,
   "metadata": {},
   "outputs": [
    {
     "data": {
      "text/plain": [
       "(475, 6)"
      ]
     },
     "execution_count": 65,
     "metadata": {},
     "output_type": "execute_result"
    }
   ],
   "source": [
    "android_dev.shape"
   ]
  },
  {
   "cell_type": "markdown",
   "metadata": {},
   "source": [
    "# Dropping Duplicate Values from each DataFrame"
   ]
  },
  {
   "cell_type": "code",
   "execution_count": 66,
   "metadata": {},
   "outputs": [],
   "source": [
    "# def Duplicate_Dropper(dataframe_name):\n",
    "#     for i in range(0,len(dataframe_name)):\n",
    "#         dataframe_name[i].drop_duplicates(subset=\"Description\", keep= 'first', inplace=True)\n",
    "    \n",
    "# Duplicate_Dropper(filename)"
   ]
  },
  {
   "cell_type": "code",
   "execution_count": 67,
   "metadata": {},
   "outputs": [],
   "source": [
    "react_native_dev.drop(10,inplace=True)"
   ]
  },
  {
   "cell_type": "markdown",
   "metadata": {},
   "source": [
    "# Replacing NAN Values"
   ]
  },
  {
   "cell_type": "code",
   "execution_count": 68,
   "metadata": {},
   "outputs": [],
   "source": [
    "def NA_filler(dataframe_name):\n",
    "    for i in range(0,len(dataframe_name)):\n",
    "        dataframe_name[i]['Salary'].fillna('',inplace=True)\n",
    "\n",
    "NA_filler(filename)"
   ]
  },
  {
   "cell_type": "code",
   "execution_count": null,
   "metadata": {},
   "outputs": [],
   "source": []
  },
  {
   "cell_type": "markdown",
   "metadata": {},
   "source": [
    "# Salary Cleaning"
   ]
  },
  {
   "cell_type": "code",
   "execution_count": 69,
   "metadata": {
    "scrolled": false
   },
   "outputs": [],
   "source": [
    "\n",
    "def Salary_Cleaning(salary):\n",
    "    \n",
    "    sal = salary.split('-')\n",
    "    if len(sal)==2:\n",
    "        added_sal = (float(sal[0]) + float(sal[1]))//2\n",
    "        if added_sal <100000:\n",
    "            converted_sal = added_sal*12\n",
    "            return converted_sal\n",
    "        else:\n",
    "            return added_sal\n",
    "    try:\n",
    "        return float(sal[0])\n",
    "    except Exception as e:\n",
    " \n",
    "        return None"
   ]
  },
  {
   "cell_type": "markdown",
   "metadata": {},
   "source": [
    "# Calling Salary Cleaner"
   ]
  },
  {
   "cell_type": "code",
   "execution_count": 70,
   "metadata": {},
   "outputs": [],
   "source": [
    "def calling_salary_cleaning(dataframe_name):\n",
    "    for i in range(0,len(dataframe_name)):\n",
    "            dataframe_name[i]['Yearly Salary'] = dataframe_name[i]['Salary'].apply(Salary_Cleaning)\n",
    "            \n",
    "calling_salary_cleaning(filename)"
   ]
  },
  {
   "cell_type": "markdown",
   "metadata": {},
   "source": [
    "# Converting outlier salary"
   ]
  },
  {
   "cell_type": "code",
   "execution_count": 71,
   "metadata": {},
   "outputs": [],
   "source": [
    "def Lower_Salary(salary):\n",
    "    if salary <=99999:\n",
    "        sal = salary*12\n",
    "        return sal\n",
    "    else:\n",
    "        return salary\n"
   ]
  },
  {
   "cell_type": "markdown",
   "metadata": {},
   "source": [
    "# Calling Lower Salary"
   ]
  },
  {
   "cell_type": "code",
   "execution_count": 72,
   "metadata": {},
   "outputs": [],
   "source": [
    "def calling_lower_salary(dataframe_name):\n",
    "    for i in range(0,len(dataframe_name)):\n",
    "        dataframe_name[i]['Yearly Salary'] = dataframe_name[i]['Yearly Salary'].apply(Lower_Salary)\n",
    "\n",
    "calling_lower_salary(filename)"
   ]
  },
  {
   "cell_type": "code",
   "execution_count": null,
   "metadata": {},
   "outputs": [],
   "source": []
  },
  {
   "cell_type": "markdown",
   "metadata": {},
   "source": [
    "# Predicting NaN values"
   ]
  },
  {
   "cell_type": "code",
   "execution_count": 73,
   "metadata": {},
   "outputs": [],
   "source": [
    "def predicting_nan_values(dataframe_name):\n",
    "    for i in range(0,len(dataframe_name)):\n",
    "        dataframe_name[i]['Yearly Salary'] = round(dataframe_name[i]['Yearly Salary'].interpolate())\n",
    "        dataframe_name[i]['Yearly Salary'] = dataframe_name[i]['Yearly Salary'].fillna(method='bfill')\n",
    "        dataframe_name[i]['Yearly Salary'] = dataframe_name[i]['Yearly Salary'].fillna(method='ffill')\n",
    "        \n",
    "\n",
    "predicting_nan_values(filename)"
   ]
  },
  {
   "cell_type": "markdown",
   "metadata": {},
   "source": [
    "# Check for nan value"
   ]
  },
  {
   "cell_type": "code",
   "execution_count": 74,
   "metadata": {},
   "outputs": [
    {
     "data": {
      "text/plain": [
       "<matplotlib.axes._subplots.AxesSubplot at 0x28eda970760>"
      ]
     },
     "execution_count": 74,
     "metadata": {},
     "output_type": "execute_result"
    },
    {
     "data": {
      "image/png": "[encoded data removed]",
      "text/plain": [
       "<Figure size 432x288 with 2 Axes>"
      ]
     },
     "metadata": {
      "needs_background": "light"
     },
     "output_type": "display_data"
    }
   ],
   "source": [
    "sns.heatmap(react_js.isnull())"
   ]
  },
  {
   "cell_type": "markdown",
   "metadata": {},
   "source": [
    "# Filling NaN Locations"
   ]
  },
  {
   "cell_type": "code",
   "execution_count": 75,
   "metadata": {},
   "outputs": [],
   "source": [
    "def location_nan(dataframe_name):\n",
    "    for i in range(0,len(dataframe_name)):\n",
    "        dataframe_name[i]['Location'] = dataframe_name[i]['Location'].interpolate()\n",
    "        dataframe_name[i]['Location'] = dataframe_name[i]['Location'].fillna(method='bfill')\n",
    "        dataframe_name[i]['Location'] = dataframe_name[i]['Location'].fillna(method='ffill')\n",
    "        \n",
    "\n",
    "location_nan(filename)"
   ]
  },
  {
   "cell_type": "markdown",
   "metadata": {},
   "source": [
    "# NaN Company Names\n"
   ]
  },
  {
   "cell_type": "markdown",
   "metadata": {},
   "source": []
  },
  {
   "cell_type": "code",
   "execution_count": 76,
   "metadata": {},
   "outputs": [],
   "source": [
    "def company_nan(dataframe_name):\n",
    "    for i in range(0,len(dataframe_name)):\n",
    "        dataframe_name[i]['Company_Name'] = dataframe_name[i]['Company_Name'].interpolate()\n",
    "        dataframe_name[i]['Company_Name'] = dataframe_name[i]['Company_Name'].fillna(method='bfill')\n",
    "        dataframe_name[i]['Company_Name'] = dataframe_name[i]['Company_Name'].fillna(method='ffill')\n",
    "        \n",
    "\n",
    "company_nan(filename)"
   ]
  },
  {
   "cell_type": "markdown",
   "metadata": {},
   "source": [
    "# Dropping Salary and Description\n"
   ]
  },
  {
   "cell_type": "code",
   "execution_count": 77,
   "metadata": {},
   "outputs": [],
   "source": [
    "def coulmn_drop(dataframe_name):\n",
    "    for i in range(0, len(dataframe_name)):\n",
    "       dataframe_name[i].drop(['Salary','Description'], axis='columns', inplace = True)\n",
    "        \n",
    "coulmn_drop(filename)\n"
   ]
  },
  {
   "cell_type": "markdown",
   "metadata": {},
   "source": []
  },
  {
   "cell_type": "code",
   "execution_count": 78,
   "metadata": {},
   "outputs": [
    {
     "data": {
      "text/plain": [
       "<matplotlib.axes._subplots.AxesSubplot at 0x28edab1c8e0>"
      ]
     },
     "execution_count": 78,
     "metadata": {},
     "output_type": "execute_result"
    },
    {
     "data": {
      "image/png": "[encoded data removed]",
      "text/plain": [
       "<Figure size 432x288 with 2 Axes>"
      ]
     },
     "metadata": {
      "needs_background": "light"
     },
     "output_type": "display_data"
    }
   ],
   "source": [
    "sns.heatmap(backend_dev.isnull())"
   ]
  },
  {
   "cell_type": "code",
   "execution_count": null,
   "metadata": {},
   "outputs": [],
   "source": []
  },
  {
   "cell_type": "code",
   "execution_count": null,
   "metadata": {},
   "outputs": [],
   "source": []
  },
  {
   "cell_type": "code",
   "execution_count": null,
   "metadata": {},
   "outputs": [],
   "source": [
    "\n"
   ]
  },
  {
   "cell_type": "code",
   "execution_count": 79,
   "metadata": {},
   "outputs": [],
   "source": [
    "android_dev.to_csv('android_dev.csv',index=False) "
   ]
  },
  {
   "cell_type": "code",
   "execution_count": 80,
   "metadata": {},
   "outputs": [],
   "source": [
    "ai.to_csv('ai.csv',index=False) "
   ]
  },
  {
   "cell_type": "code",
   "execution_count": 81,
   "metadata": {},
   "outputs": [],
   "source": [
    "# filename = [ android_dev, ai, backend_dev, business_analyst, cloud_computing, data_analyst, data_scientist, \n",
    "#             deep_learning, devops, flutter_dev, full_stack_dev, game_artist, game_designer,game_developer, iOS_dev, java_dev, ml, mean, mern, \n",
    "#             net_security_engg, node_js, php_dev, py_dev, react_js, react_native_dev, sys_admin, ui_ux, web_dev]"
   ]
  },
  {
   "cell_type": "code",
   "execution_count": 82,
   "metadata": {},
   "outputs": [],
   "source": [
    "backend_dev.to_csv('backend_dev.csv',index=False) "
   ]
  },
  {
   "cell_type": "code",
   "execution_count": 83,
   "metadata": {},
   "outputs": [],
   "source": [
    "business_analyst.to_csv('business_analyst.csv',index=False) "
   ]
  },
  {
   "cell_type": "code",
   "execution_count": 84,
   "metadata": {},
   "outputs": [],
   "source": [
    "cloud_computing.to_csv('cloud_computing.csv',index=False) "
   ]
  },
  {
   "cell_type": "code",
   "execution_count": 85,
   "metadata": {},
   "outputs": [],
   "source": [
    "data_analyst.to_csv(\"data_analyst.csv\",index=False) "
   ]
  },
  {
   "cell_type": "code",
   "execution_count": 86,
   "metadata": {},
   "outputs": [],
   "source": [
    "data_scientist.to_csv('data_scientist.csv',index=False) "
   ]
  },
  {
   "cell_type": "code",
   "execution_count": 87,
   "metadata": {},
   "outputs": [],
   "source": [
    "deep_learning.to_csv('deep_learning.csv',index=False) "
   ]
  },
  {
   "cell_type": "code",
   "execution_count": 88,
   "metadata": {},
   "outputs": [],
   "source": [
    "devops.to_csv('devops.csv',index=False) "
   ]
  },
  {
   "cell_type": "code",
   "execution_count": 89,
   "metadata": {},
   "outputs": [],
   "source": [
    "flutter_dev.to_csv('flutter_dev.csv',index=False) "
   ]
  },
  {
   "cell_type": "code",
   "execution_count": 90,
   "metadata": {},
   "outputs": [],
   "source": [
    "full_stack_dev.to_csv('full_stack_dev.csv',index=False) "
   ]
  },
  {
   "cell_type": "code",
   "execution_count": 91,
   "metadata": {},
   "outputs": [],
   "source": [
    "game_artist.to_csv('game_artist.csv',index=False) "
   ]
  },
  {
   "cell_type": "code",
   "execution_count": 92,
   "metadata": {},
   "outputs": [],
   "source": [
    "game_designer.to_csv('game_designer.csv',index=False) "
   ]
  },
  {
   "cell_type": "code",
   "execution_count": 93,
   "metadata": {},
   "outputs": [],
   "source": [
    "game_developer.to_csv('game_developer.csv',index=False) "
   ]
  },
  {
   "cell_type": "code",
   "execution_count": 94,
   "metadata": {},
   "outputs": [],
   "source": [
    "iOS_dev.to_csv('iOS_dev.csv',index=False) "
   ]
  },
  {
   "cell_type": "code",
   "execution_count": 95,
   "metadata": {},
   "outputs": [],
   "source": [
    "java_dev.to_csv('java_dev.csv',index=False) "
   ]
  },
  {
   "cell_type": "code",
   "execution_count": 96,
   "metadata": {},
   "outputs": [],
   "source": [
    "ml.to_csv('ml.csv',index=False) "
   ]
  },
  {
   "cell_type": "code",
   "execution_count": 97,
   "metadata": {},
   "outputs": [],
   "source": [
    "mean.to_csv('mean.csv',index=False) "
   ]
  },
  {
   "cell_type": "code",
   "execution_count": 98,
   "metadata": {},
   "outputs": [],
   "source": [
    "mern.to_csv('mern.csv',index=False) "
   ]
  },
  {
   "cell_type": "code",
   "execution_count": 99,
   "metadata": {},
   "outputs": [],
   "source": [
    "net_security_engg.to_csv('net_security_engg.csv',index=False) "
   ]
  },
  {
   "cell_type": "code",
   "execution_count": 100,
   "metadata": {},
   "outputs": [],
   "source": [
    "node_js.to_csv('node_js.csv',index=False) "
   ]
  },
  {
   "cell_type": "code",
   "execution_count": 101,
   "metadata": {},
   "outputs": [],
   "source": [
    "php_dev.to_csv('php_dev.csv',index=False) "
   ]
  },
  {
   "cell_type": "code",
   "execution_count": 102,
   "metadata": {},
   "outputs": [],
   "source": [
    "py_dev.to_csv('py_dev.csv',index=False) "
   ]
  },
  {
   "cell_type": "code",
   "execution_count": 103,
   "metadata": {},
   "outputs": [],
   "source": [
    "react_js.to_csv('react_js.csv',index=False) "
   ]
  },
  {
   "cell_type": "code",
   "execution_count": 104,
   "metadata": {},
   "outputs": [],
   "source": [
    "react_native_dev.to_csv('react_native_dev.csv',index=False) "
   ]
  },
  {
   "cell_type": "code",
   "execution_count": 105,
   "metadata": {},
   "outputs": [],
   "source": [
    "ui_ux.to_csv('../ui_ux.csv',index=False) "
   ]
  },
  {
   "cell_type": "code",
   "execution_count": 106,
   "metadata": {},
   "outputs": [],
   "source": [
    "web_dev.to_csv('web_dev.csv',index=False) "
   ]
  },
  {
   "cell_type": "code",
   "execution_count": null,
   "metadata": {},
   "outputs": [],
   "source": []
  },
  {
   "cell_type": "code",
   "execution_count": null,
   "metadata": {},
   "outputs": [],
   "source": []
  },
  {
   "cell_type": "code",
   "execution_count": null,
   "metadata": {},
   "outputs": [],
   "source": []
  },
  {
   "cell_type": "code",
   "execution_count": null,
   "metadata": {},
   "outputs": [],
   "source": []
  },
  {
   "cell_type": "code",
   "execution_count": null,
   "metadata": {},
   "outputs": [],
   "source": []
  },
  {
   "cell_type": "code",
   "execution_count": null,
   "metadata": {},
   "outputs": [],
   "source": []
  },
  {
   "cell_type": "code",
   "execution_count": null,
   "metadata": {},
   "outputs": [],
   "source": []
  }
 ],
 "metadata": {
  "kernelspec": {
   "display_name": "Python 3",
   "language": "python",
   "name": "python3"
  },
  "language_info": {
   "codemirror_mode": {
    "name": "ipython",
    "version": 3
   },
   "file_extension": ".py",
   "mimetype": "text/x-python",
   "name": "python",
   "nbconvert_exporter": "python",
   "pygments_lexer": "ipython3",
   "version": "3.8.3"
  }
 },
 "nbformat": 4,
 "nbformat_minor": 4
}
