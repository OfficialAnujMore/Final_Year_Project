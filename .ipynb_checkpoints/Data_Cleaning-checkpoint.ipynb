{
 "cells": [
  {
   "cell_type": "code",
   "execution_count": 38,
   "metadata": {},
   "outputs": [],
   "source": [
    "import pandas as pd\n",
    "import numpy as np\n",
    "import random\n",
    "import seaborn as sns\n",
    "import time\n",
    "import matplotlib.pyplot as plt \n",
    "import random\n",
    "import csv "
   ]
  },
  {
   "cell_type": "code",
   "execution_count": null,
   "metadata": {},
   "outputs": [],
   "source": []
  },
  {
   "cell_type": "code",
   "execution_count": 39,
   "metadata": {},
   "outputs": [
    {
     "data": {
      "text/plain": [
       "<Figure size 1440x720 with 0 Axes>"
      ]
     },
     "execution_count": 39,
     "metadata": {},
     "output_type": "execute_result"
    },
    {
     "data": {
      "text/plain": [
       "<Figure size 1440x720 with 0 Axes>"
      ]
     },
     "metadata": {},
     "output_type": "display_data"
    }
   ],
   "source": [
    "pd.set_option('display.max_rows',300)\n",
    "pd.set_option('display.max_columns',100)\n",
    "pd.set_option('max_colwidth',800)\n",
    "\n",
    "plt.figure(figsize=(20,10))\n",
    "# plt.subplots(figsize=(20,20))"
   ]
  },
  {
   "cell_type": "code",
   "execution_count": 40,
   "metadata": {},
   "outputs": [],
   "source": [
    "\n",
    "android_dev = pd.read_csv('datasets/Android_Developer.csv')\n",
    "ai = pd.read_csv('datasets/Artificial_Intilligence.csv')\n",
    "backend_dev = pd.read_csv('datasets/Backend_Developer.csv')\n",
    "business_analyst = pd.read_csv('datasets/Business_Analyst.csv')\n",
    "cloud_computing = pd.read_csv('datasets/Cloud_Computing.csv')\n",
    "data_analyst = pd.read_csv('datasets/Data_Analyst.csv')\n",
    "data_scientist = pd.read_csv('datasets/Data_Scientist.csv')\n",
    "deep_learning = pd.read_csv('datasets/Deep_Learning.csv')\n",
    "devops = pd.read_csv('datasets/Devops_Engineer.csv')\n",
    "flutter_dev = pd.read_csv('datasets/Flutter_Developer.csv')\n",
    "full_stack_dev = pd.read_csv('datasets/Full_Stack_Developer.csv')\n",
    "game_artist = pd.read_csv('datasets/Game_Artist.csv')\n",
    "game_designer = pd.read_csv('datasets/Game_Designer.csv')\n",
    "game_developer = pd.read_csv('datasets/Game_Developer.csv')\n",
    "iOS_dev = pd.read_csv('datasets/iOS_Developer.csv')\n",
    "java_dev = pd.read_csv('datasets/Java_Developer.csv')\n",
    "ml = pd.read_csv('datasets/Machine_Learning.csv')\n",
    "mean = pd.read_csv('datasets/MEAN_Stack_Developer.csv')\n",
    "mern = pd.read_csv('datasets/MERN_Stack_Developer.csv')\n",
    "net_security_engg = pd.read_csv('datasets/Network_Security_Engineer.csv')\n",
    "node_js = pd.read_csv('datasets/Node_Js_Developer.csv')\n",
    "php_dev = pd.read_csv('datasets/PHP_Developer.csv')\n",
    "py_dev = pd.read_csv('datasets/Python_Developer.csv')\n",
    "react_js= pd.read_csv('datasets/React_Js_Developer.csv')\n",
    "react_native_dev = pd.read_csv('datasets/React_Native_Developer.csv')\n",
    "sys_admin = pd.read_csv('datasets/System_Administrator.csv')\n",
    "ui_ux = pd.read_csv('datasets/UI_UX_Developer.csv')\n",
    "web_dev = pd.read_csv('datasets/Web_Developer.csv')"
   ]
  },
  {
   "cell_type": "code",
   "execution_count": 41,
   "metadata": {},
   "outputs": [
    {
     "name": "stdout",
     "output_type": "stream",
     "text": [
      "28\n"
     ]
    }
   ],
   "source": [
    "filename = [ android_dev, ai, backend_dev, business_analyst, cloud_computing, data_analyst, data_scientist, \n",
    "            deep_learning, devops, flutter_dev, full_stack_dev, game_artist, game_designer,game_developer, iOS_dev, java_dev, ml, mean, mern, \n",
    "            net_security_engg, node_js, php_dev, py_dev, react_js, react_native_dev, sys_admin, ui_ux, web_dev]\n",
    "print(len(filename))"
   ]
  },
  {
   "cell_type": "code",
   "execution_count": 42,
   "metadata": {},
   "outputs": [
    {
     "data": {
      "text/html": [
       "<div>\n",
       "<style scoped>\n",
       "    .dataframe tbody tr th:only-of-type {\n",
       "        vertical-align: middle;\n",
       "    }\n",
       "\n",
       "    .dataframe tbody tr th {\n",
       "        vertical-align: top;\n",
       "    }\n",
       "\n",
       "    .dataframe thead th {\n",
       "        text-align: right;\n",
       "    }\n",
       "</style>\n",
       "<table border=\"1\" class=\"dataframe\">\n",
       "  <thead>\n",
       "    <tr style=\"text-align: right;\">\n",
       "      <th></th>\n",
       "      <th>Job_Name</th>\n",
       "      <th>Company_Name</th>\n",
       "      <th>Location</th>\n",
       "      <th>Salary</th>\n",
       "      <th>Description</th>\n",
       "      <th>Skills</th>\n",
       "    </tr>\n",
       "  </thead>\n",
       "  <tbody>\n",
       "    <tr>\n",
       "      <th>0</th>\n",
       "      <td>Android Developer</td>\n",
       "      <td>Arham Labs</td>\n",
       "      <td>Mumbai, Maharashtra</td>\n",
       "      <td>NaN</td>\n",
       "      <td>You will be working alongside designers and other engineers and developers working on different layers of the infrastructure.</td>\n",
       "      <td>JAVA,UNDERSTANDING OF XML,ANDROID SDK,ANDROID STUDIO,APIS,DATABASES,MATERIAL DESIGN,Kotlin,UX/UI,Critical Thinking,Cross-Platform,Adaptability</td>\n",
       "    </tr>\n",
       "    <tr>\n",
       "      <th>1</th>\n",
       "      <td>Urgent Opening For Android Developer (Immediate Joining)</td>\n",
       "      <td>Prolifiquetech</td>\n",
       "      <td>Vashi, Navi Mumbai, Maharashtra</td>\n",
       "      <td>300000 - 400000</td>\n",
       "      <td>Design and build advanced applications for the Android platform.Collaborate with cross-functional teams to define, design, and ship new features.</td>\n",
       "      <td>JAVA,UNDERSTANDING OF XML,ANDROID SDK,ANDROID STUDIO,APIS,DATABASES,MATERIAL DESIGN,Kotlin,UX/UI,Critical Thinking,Cross-Platform,Adaptability</td>\n",
       "    </tr>\n",
       "    <tr>\n",
       "      <th>2</th>\n",
       "      <td>Android Developer</td>\n",
       "      <td>City Dreams Enterprises</td>\n",
       "      <td>NaN</td>\n",
       "      <td>25000 - 35000</td>\n",
       "      <td>Proficient with problem solving, Data Structure, Algorithms, and ObjectOriented Design.Clear understanding of the Android platform and Android SDK, different…</td>\n",
       "      <td>JAVA,UNDERSTANDING OF XML,ANDROID SDK,ANDROID STUDIO,APIS,DATABASES,MATERIAL DESIGN,Kotlin,UX/UI,Critical Thinking,Cross-Platform,Adaptability</td>\n",
       "    </tr>\n",
       "    <tr>\n",
       "      <th>3</th>\n",
       "      <td>Sr. Android Developer</td>\n",
       "      <td>CREATIVE INFOWAY</td>\n",
       "      <td>Gujarat</td>\n",
       "      <td>NaN</td>\n",
       "      <td>Knowledge of Android UI frameworks.Strong knowledge of Android SDK, different versions of Android, and how to deal with different screen-sizes</td>\n",
       "      <td>JAVA,UNDERSTANDING OF XML,ANDROID SDK,ANDROID STUDIO,APIS,DATABASES,MATERIAL DESIGN,Kotlin,UX/UI,Critical Thinking,Cross-Platform,Adaptability</td>\n",
       "    </tr>\n",
       "    <tr>\n",
       "      <th>4</th>\n",
       "      <td>Remote Android Developer</td>\n",
       "      <td>Rishabh Group India</td>\n",
       "      <td>Ujjain, Madhya Pradesh</td>\n",
       "      <td>20000 - 30000</td>\n",
       "      <td>Conceptualizing and formulating apps that are suitable for use on all types of Android devices.Implementing measures to safeguard users’ data.</td>\n",
       "      <td>JAVA,UNDERSTANDING OF XML,ANDROID SDK,ANDROID STUDIO,APIS,DATABASES,MATERIAL DESIGN,Kotlin,UX/UI,Critical Thinking,Cross-Platform,Adaptability</td>\n",
       "    </tr>\n",
       "    <tr>\n",
       "      <th>...</th>\n",
       "      <td>...</td>\n",
       "      <td>...</td>\n",
       "      <td>...</td>\n",
       "      <td>...</td>\n",
       "      <td>...</td>\n",
       "      <td>...</td>\n",
       "    </tr>\n",
       "    <tr>\n",
       "      <th>273</th>\n",
       "      <td>Android developer</td>\n",
       "      <td>Tide</td>\n",
       "      <td>Chennai, Tamil Nadu</td>\n",
       "      <td>560000</td>\n",
       "      <td>Translate designs and wireframes into high quality code.Design, build, and maintain high performance, reusable, and reliable Java code.</td>\n",
       "      <td>JAVA,UNDERSTANDING OF XML,ANDROID SDK,ANDROID STUDIO,APIS,DATABASES,MATERIAL DESIGN,Kotlin,UX/UI,Critical Thinking,Cross-Platform,Adaptability</td>\n",
       "    </tr>\n",
       "    <tr>\n",
       "      <th>274</th>\n",
       "      <td>Mobile Application Developer</td>\n",
       "      <td>V-ROBOTICS</td>\n",
       "      <td>Ahmedabad, Gujarat</td>\n",
       "      <td>500000</td>\n",
       "      <td>Design and build advanced applications for the IOS platform.Collaborate with cross-functional teams to define, design, and ship new features.</td>\n",
       "      <td>JAVA,UNDERSTANDING OF XML,ANDROID SDK,ANDROID STUDIO,APIS,DATABASES,MATERIAL DESIGN,Kotlin,UX/UI,Critical Thinking,Cross-Platform,Adaptability</td>\n",
       "    </tr>\n",
       "    <tr>\n",
       "      <th>275</th>\n",
       "      <td>Android Developer</td>\n",
       "      <td>Signaturess Web Development</td>\n",
       "      <td>NaN</td>\n",
       "      <td>500000</td>\n",
       "      <td>Working directly with creative, developers, user experience leads, and producers to conceptualize, build, test and release products.</td>\n",
       "      <td>JAVA,UNDERSTANDING OF XML,ANDROID SDK,ANDROID STUDIO,APIS,DATABASES,MATERIAL DESIGN,Kotlin,UX/UI,Critical Thinking,Cross-Platform,Adaptability</td>\n",
       "    </tr>\n",
       "    <tr>\n",
       "      <th>276</th>\n",
       "      <td>iOS &amp; Android Application Developer</td>\n",
       "      <td>Arham Labs</td>\n",
       "      <td>Pune, Maharashtra</td>\n",
       "      <td>450000</td>\n",
       "      <td>Should be good at Android UI design principles and design patterns.Hands-on experience in Restful, JSON, location based services.Temporarily due to COVID-19.</td>\n",
       "      <td>JAVA,UNDERSTANDING OF XML,ANDROID SDK,ANDROID STUDIO,APIS,DATABASES,MATERIAL DESIGN,Kotlin,UX/UI,Critical Thinking,Cross-Platform,Adaptability</td>\n",
       "    </tr>\n",
       "    <tr>\n",
       "      <th>277</th>\n",
       "      <td>Android App Developer</td>\n",
       "      <td>City Dreams Enterprises</td>\n",
       "      <td>Bengaluru, Karnataka</td>\n",
       "      <td>750000</td>\n",
       "      <td>We are looking for geeks, who would want to work with ace developers, and build a strong team.With over 100,000 members, we're the leading provider of SME…</td>\n",
       "      <td>JAVA,UNDERSTANDING OF XML,ANDROID SDK,ANDROID STUDIO,APIS,DATABASES,MATERIAL DESIGN,Kotlin,UX/UI,Critical Thinking,Cross-Platform,Adaptability</td>\n",
       "    </tr>\n",
       "  </tbody>\n",
       "</table>\n",
       "<p>278 rows × 6 columns</p>\n",
       "</div>"
      ],
      "text/plain": [
       "                                                     Job_Name  \\\n",
       "0                                           Android Developer   \n",
       "1    Urgent Opening For Android Developer (Immediate Joining)   \n",
       "2                                           Android Developer   \n",
       "3                                       Sr. Android Developer   \n",
       "4                                    Remote Android Developer   \n",
       "..                                                        ...   \n",
       "273                                         Android developer   \n",
       "274                              Mobile Application Developer   \n",
       "275                                         Android Developer   \n",
       "276                       iOS & Android Application Developer   \n",
       "277                                     Android App Developer   \n",
       "\n",
       "                    Company_Name                         Location  \\\n",
       "0                     Arham Labs              Mumbai, Maharashtra   \n",
       "1                 Prolifiquetech  Vashi, Navi Mumbai, Maharashtra   \n",
       "2        City Dreams Enterprises                              NaN   \n",
       "3               CREATIVE INFOWAY                          Gujarat   \n",
       "4            Rishabh Group India           Ujjain, Madhya Pradesh   \n",
       "..                           ...                              ...   \n",
       "273                         Tide              Chennai, Tamil Nadu   \n",
       "274                   V-ROBOTICS               Ahmedabad, Gujarat   \n",
       "275  Signaturess Web Development                              NaN   \n",
       "276                   Arham Labs                Pune, Maharashtra   \n",
       "277      City Dreams Enterprises             Bengaluru, Karnataka   \n",
       "\n",
       "              Salary  \\\n",
       "0                NaN   \n",
       "1    300000 - 400000   \n",
       "2      25000 - 35000   \n",
       "3                NaN   \n",
       "4      20000 - 30000   \n",
       "..               ...   \n",
       "273           560000   \n",
       "274           500000   \n",
       "275           500000   \n",
       "276           450000   \n",
       "277           750000   \n",
       "\n",
       "                                                                                                                                                        Description  \\\n",
       "0                                     You will be working alongside designers and other engineers and developers working on different layers of the infrastructure.   \n",
       "1                 Design and build advanced applications for the Android platform.Collaborate with cross-functional teams to define, design, and ship new features.   \n",
       "2    Proficient with problem solving, Data Structure, Algorithms, and ObjectOriented Design.Clear understanding of the Android platform and Android SDK, different…   \n",
       "3                    Knowledge of Android UI frameworks.Strong knowledge of Android SDK, different versions of Android, and how to deal with different screen-sizes   \n",
       "4                    Conceptualizing and formulating apps that are suitable for use on all types of Android devices.Implementing measures to safeguard users’ data.   \n",
       "..                                                                                                                                                              ...   \n",
       "273                         Translate designs and wireframes into high quality code.Design, build, and maintain high performance, reusable, and reliable Java code.   \n",
       "274                   Design and build advanced applications for the IOS platform.Collaborate with cross-functional teams to define, design, and ship new features.   \n",
       "275                            Working directly with creative, developers, user experience leads, and producers to conceptualize, build, test and release products.   \n",
       "276   Should be good at Android UI design principles and design patterns.Hands-on experience in Restful, JSON, location based services.Temporarily due to COVID-19.   \n",
       "277     We are looking for geeks, who would want to work with ace developers, and build a strong team.With over 100,000 members, we're the leading provider of SME…   \n",
       "\n",
       "                                                                                                                                             Skills  \n",
       "0    JAVA,UNDERSTANDING OF XML,ANDROID SDK,ANDROID STUDIO,APIS,DATABASES,MATERIAL DESIGN,Kotlin,UX/UI,Critical Thinking,Cross-Platform,Adaptability  \n",
       "1    JAVA,UNDERSTANDING OF XML,ANDROID SDK,ANDROID STUDIO,APIS,DATABASES,MATERIAL DESIGN,Kotlin,UX/UI,Critical Thinking,Cross-Platform,Adaptability  \n",
       "2    JAVA,UNDERSTANDING OF XML,ANDROID SDK,ANDROID STUDIO,APIS,DATABASES,MATERIAL DESIGN,Kotlin,UX/UI,Critical Thinking,Cross-Platform,Adaptability  \n",
       "3    JAVA,UNDERSTANDING OF XML,ANDROID SDK,ANDROID STUDIO,APIS,DATABASES,MATERIAL DESIGN,Kotlin,UX/UI,Critical Thinking,Cross-Platform,Adaptability  \n",
       "4    JAVA,UNDERSTANDING OF XML,ANDROID SDK,ANDROID STUDIO,APIS,DATABASES,MATERIAL DESIGN,Kotlin,UX/UI,Critical Thinking,Cross-Platform,Adaptability  \n",
       "..                                                                                                                                              ...  \n",
       "273  JAVA,UNDERSTANDING OF XML,ANDROID SDK,ANDROID STUDIO,APIS,DATABASES,MATERIAL DESIGN,Kotlin,UX/UI,Critical Thinking,Cross-Platform,Adaptability  \n",
       "274  JAVA,UNDERSTANDING OF XML,ANDROID SDK,ANDROID STUDIO,APIS,DATABASES,MATERIAL DESIGN,Kotlin,UX/UI,Critical Thinking,Cross-Platform,Adaptability  \n",
       "275  JAVA,UNDERSTANDING OF XML,ANDROID SDK,ANDROID STUDIO,APIS,DATABASES,MATERIAL DESIGN,Kotlin,UX/UI,Critical Thinking,Cross-Platform,Adaptability  \n",
       "276  JAVA,UNDERSTANDING OF XML,ANDROID SDK,ANDROID STUDIO,APIS,DATABASES,MATERIAL DESIGN,Kotlin,UX/UI,Critical Thinking,Cross-Platform,Adaptability  \n",
       "277  JAVA,UNDERSTANDING OF XML,ANDROID SDK,ANDROID STUDIO,APIS,DATABASES,MATERIAL DESIGN,Kotlin,UX/UI,Critical Thinking,Cross-Platform,Adaptability  \n",
       "\n",
       "[278 rows x 6 columns]"
      ]
     },
     "execution_count": 42,
     "metadata": {},
     "output_type": "execute_result"
    }
   ],
   "source": [
    "android_dev"
   ]
  },
  {
   "cell_type": "code",
   "execution_count": 43,
   "metadata": {},
   "outputs": [
    {
     "data": {
      "text/plain": [
       "(278, 6)"
      ]
     },
     "execution_count": 43,
     "metadata": {},
     "output_type": "execute_result"
    }
   ],
   "source": [
    "android_dev.shape"
   ]
  },
  {
   "cell_type": "markdown",
   "metadata": {},
   "source": [
    "# Dropping Duplicate Values from each DataFrame"
   ]
  },
  {
   "cell_type": "code",
   "execution_count": 44,
   "metadata": {},
   "outputs": [],
   "source": [
    "def Duplicate_Dropper(dataframe_name):\n",
    "    for i in range(0,len(dataframe_name)):\n",
    "        dataframe_name[i].drop_duplicates(subset=\"Description\", keep= 'first', inplace=True)\n",
    "    \n",
    "Duplicate_Dropper(filename)"
   ]
  },
  {
   "cell_type": "code",
   "execution_count": 45,
   "metadata": {},
   "outputs": [],
   "source": [
    "react_native_dev.drop(10,inplace=True)"
   ]
  },
  {
   "cell_type": "markdown",
   "metadata": {},
   "source": [
    "# Replacing NAN Values"
   ]
  },
  {
   "cell_type": "code",
   "execution_count": 46,
   "metadata": {},
   "outputs": [],
   "source": [
    "def NA_filler(dataframe_name):\n",
    "    for i in range(0,len(dataframe_name)):\n",
    "        dataframe_name[i]['Salary'].fillna('',inplace=True)\n",
    "\n",
    "NA_filler(filename)"
   ]
  },
  {
   "cell_type": "code",
   "execution_count": null,
   "metadata": {},
   "outputs": [],
   "source": []
  },
  {
   "cell_type": "markdown",
   "metadata": {},
   "source": [
    "# Salary Cleaning"
   ]
  },
  {
   "cell_type": "code",
   "execution_count": 47,
   "metadata": {
    "scrolled": false
   },
   "outputs": [],
   "source": [
    "\n",
    "def Salary_Cleaning(salary):\n",
    "    \n",
    "    sal = salary.split('-')\n",
    "    if len(sal)==2:\n",
    "        added_sal = (float(sal[0]) + float(sal[1]))//2\n",
    "        if added_sal <100000:\n",
    "            converted_sal = added_sal*12\n",
    "            return converted_sal\n",
    "        else:\n",
    "            return added_sal\n",
    "    try:\n",
    "        return float(sal[0])\n",
    "    except Exception as e:\n",
    " \n",
    "        return None"
   ]
  },
  {
   "cell_type": "markdown",
   "metadata": {},
   "source": [
    "# Calling Salary Cleaner"
   ]
  },
  {
   "cell_type": "code",
   "execution_count": 48,
   "metadata": {},
   "outputs": [],
   "source": [
    "def calling_salary_cleaning(dataframe_name):\n",
    "    for i in range(0,len(dataframe_name)):\n",
    "            dataframe_name[i]['Yearly Salary'] = dataframe_name[i]['Salary'].apply(Salary_Cleaning)\n",
    "            \n",
    "calling_salary_cleaning(filename)"
   ]
  },
  {
   "cell_type": "markdown",
   "metadata": {},
   "source": [
    "# Converting outlier salary"
   ]
  },
  {
   "cell_type": "code",
   "execution_count": 49,
   "metadata": {},
   "outputs": [],
   "source": [
    "def Lower_Salary(salary):\n",
    "    if salary <=99999:\n",
    "        sal = salary*12\n",
    "        return sal\n",
    "    else:\n",
    "        return salary\n"
   ]
  },
  {
   "cell_type": "markdown",
   "metadata": {},
   "source": [
    "# Calling Lower Salary"
   ]
  },
  {
   "cell_type": "code",
   "execution_count": 50,
   "metadata": {},
   "outputs": [],
   "source": [
    "def calling_lower_salary(dataframe_name):\n",
    "    for i in range(0,len(dataframe_name)):\n",
    "        dataframe_name[i]['Yearly Salary'] = dataframe_name[i]['Yearly Salary'].apply(Lower_Salary)\n",
    "\n",
    "calling_lower_salary(filename)"
   ]
  },
  {
   "cell_type": "code",
   "execution_count": null,
   "metadata": {},
   "outputs": [],
   "source": []
  },
  {
   "cell_type": "markdown",
   "metadata": {},
   "source": [
    "# Predicting NaN values"
   ]
  },
  {
   "cell_type": "code",
   "execution_count": 51,
   "metadata": {},
   "outputs": [],
   "source": [
    "def predicting_nan_values(dataframe_name):\n",
    "    for i in range(0,len(dataframe_name)):\n",
    "        dataframe_name[i]['Yearly Salary'] = round(dataframe_name[i]['Yearly Salary'].interpolate())\n",
    "        dataframe_name[i]['Yearly Salary'] = dataframe_name[i]['Yearly Salary'].fillna(method='bfill')\n",
    "        dataframe_name[i]['Yearly Salary'] = dataframe_name[i]['Yearly Salary'].fillna(method='ffill')\n",
    "        \n",
    "\n",
    "predicting_nan_values(filename)"
   ]
  },
  {
   "cell_type": "markdown",
   "metadata": {},
   "source": [
    "# Check for nan value"
   ]
  },
  {
   "cell_type": "code",
   "execution_count": 52,
   "metadata": {},
   "outputs": [
    {
     "data": {
      "text/plain": [
       "<matplotlib.axes._subplots.AxesSubplot at 0x1ee2b09b040>"
      ]
     },
     "execution_count": 52,
     "metadata": {},
     "output_type": "execute_result"
    },
    {
     "data": {
      "image/png": "[encoded data removed]",
      "text/plain": [
       "<Figure size 432x288 with 2 Axes>"
      ]
     },
     "metadata": {
      "needs_background": "light"
     },
     "output_type": "display_data"
    }
   ],
   "source": [
    "sns.heatmap(react_js.isnull())"
   ]
  },
  {
   "cell_type": "markdown",
   "metadata": {},
   "source": []
  },
  {
   "cell_type": "code",
   "execution_count": null,
   "metadata": {},
   "outputs": [],
   "source": []
  },
  {
   "cell_type": "code",
   "execution_count": null,
   "metadata": {},
   "outputs": [],
   "source": []
  },
  {
   "cell_type": "markdown",
   "metadata": {},
   "source": []
  },
  {
   "cell_type": "code",
   "execution_count": null,
   "metadata": {},
   "outputs": [],
   "source": []
  },
  {
   "cell_type": "code",
   "execution_count": null,
   "metadata": {},
   "outputs": [],
   "source": []
  },
  {
   "cell_type": "code",
   "execution_count": null,
   "metadata": {},
   "outputs": [],
   "source": []
  },
  {
   "cell_type": "markdown",
   "metadata": {},
   "source": []
  },
  {
   "cell_type": "code",
   "execution_count": null,
   "metadata": {},
   "outputs": [],
   "source": []
  },
  {
   "cell_type": "code",
   "execution_count": null,
   "metadata": {},
   "outputs": [],
   "source": [
    "\n"
   ]
  },
  {
   "cell_type": "code",
   "execution_count": null,
   "metadata": {},
   "outputs": [],
   "source": []
  },
  {
   "cell_type": "code",
   "execution_count": null,
   "metadata": {},
   "outputs": [],
   "source": []
  },
  {
   "cell_type": "code",
   "execution_count": 53,
   "metadata": {},
   "outputs": [],
   "source": [
    "# for i in range(0,len(demo_list)):\n",
    "#     if demo_list[i] in demo:\n",
    "#         print(demo_list[i])\n",
    "        \n",
    "        \n",
    "    \n",
    "\n",
    "# def skill_checker(android_dev):\n",
    "#     for i in range(0, len(android_dev)):\n",
    "        \n",
    "#         for j in range(0,len(demo_list)):\n",
    "#             if demo_list[j] in android_dev['Description'].tolist():\n",
    "#                 android_dev['Skills'] = demo_list[i]\n",
    "            \n",
    "# skill_checker(android_dev)\n",
    "# print(len(android_dev['Description']))\n",
    "\n",
    "\n",
    "\n",
    "# # def skill_checker(dataframe_name):\n",
    "# #     for i in range(0, len(dataframe_name)):\n",
    "        \n",
    "# #         for i in range(0,len(demo_list)):\n",
    "# #         if demo_list[i] in android_dev['Description']:\n",
    "# #             print(demo_list[i])\n",
    "            \n",
    "# # skill_checker(filename)\n",
    "\n",
    "\n",
    "# x = android_dev['Description'].tolist()\n",
    "\n",
    "# for i in range(0,len(x)):\n",
    "#     for j in range(0,len(demo_list)):\n",
    "#         if demo_list[j] in x[i]:\n",
    "#             android_dev['Skills'] = demo_list[j]\n",
    "#             return android_dev['Skills']\n",
    "#         else:\n",
    "#             return None\n",
    "# #         print(x[i],demo_list[j])\n",
    "# #         print(demo_list[j])\n",
    "    "
   ]
  },
  {
   "cell_type": "code",
   "execution_count": 54,
   "metadata": {},
   "outputs": [],
   "source": [
    "# skills=[\n",
    "# \"JAVA,UNDERSTANDING OF XML,ANDROID SDK,ANDROID STUDIO,APIS,DATABASES,MATERIAL DESIGN,Kotlin,UX/UI,Critical Thinking,Cross-Platform,Adaptability\",\n",
    "# \"Scala,Java,Python,mathematical skills,knowledge of cloud applications,computer languages,excellent communication,analytical skills,machine learning,intellectual curiosity,business,data science,data statistics,data structures,trees,optimization algorithmsgraphs,linear programming,Bayesian principles,conditional probability, Statistics,probability distribution, Data modeling, model validation, Linear Algebra, Calculus, Statistics, Signal Processing Techniques, Applied Math and Algorithms, Neural Network Architectures\",\n",
    "# \"PostgreSQL,MySQL,GraphQL,Node.js,MongoDB,Server Handling,web-frameworks,optimize queries\",\"Consultancy Skills,Technical Understanding,Oral skills, written communication skills,facliation skillss.Interpersonal skills, consultative skills, Problem Solvong, Analyticial thinking, Organizational Skills, Knowledge of business structure\",\n",
    "# \"Database skills,Programming skills,Linux,DevOpsQuality Assurance,Information security,cloud technologies,multi-cloud environment,integrated, cloud certifications,DevOps,Measurement,analysis,Presentation Sklls, machine Learning\",\n",
    "# \"Structured Query Language,Microsoft Excel,Critical Thinking,Python-Statistical Programming,Data Visualization,Data Visualization,Spreadsheets,Public speaking,Research,Collaboration,Writing,Statistics\",\n",
    "# \"Statistics,R,Python,Data Extraction,Data Transformation,Data Loading,Data Wrangling , Data Exploration,Machine Learning Algorithms,Advanced Machine Learning (Deep Learning),Big Data Processing Frameworks ,Data Visualization\",\n",
    "# \"Deep Learning with TensorFlow,TensorFlow,Natural Language Processing,NLP,Robotic Process Automation,Deep Learning,Machine Learning,AI\",\n",
    "# \"Linux Fundamentals,Scripting,Knowledge On Various DevOps,Technologies,Continuous Integration,Continuous Delivery,Infrastructure As Code,Key concepts of DevOps,Soft skills,Strong Communication,Collaboration Skills, Software Security Skills,Testing Skills,Proactivity\",\n",
    "# \"Good knowledge of Git,Understanding of Computer Science,software development life cycle,Strong knowledge of different architecture approaches,Experience with GoF patterns,Knowledge of SQL,Fix bugs,Write clean code,Investigate technologies,Follow new trends,Strong knowledge of networking,Experience in programming languages for mobile development Kotlin or Swift,Knowledge of Dart programming language,Understanding of Flutter framework,Experience in Android ,Experience in IOS\",\n",
    "# \"HTML5,CSS3,JavaScript,GitHub,Git,Python,Java,Ruby,Web architecture,HTTP and REST,Database storage,relational data,Knowledge of NoSQL databases,Knowledge of web storage,Basic design skills,NPM,Soft skills\",\n",
    "# \"Strong IT skills,Problem-solving aptitude,Time management skills,Creativity and culture,Communication skills,Stay abreast of industry developments,Database design,implementation and management,Software Development Frameworks,Virtual Reality Software Design,User Interface Design,IT Professional Practice Project,C++,Level design,Game Development,Adobe Photoshop,Maya,EPIC Unreal Engine,Zbrush,Research,Organizational Skills,Writing,Problem Solving,Communication Skills,Creativity,Collaboration,Teamwork\",\n",
    "# \"Creativity,Artistic vision,A passion for video games,Storytelling ability,Wide-ranging knowledge of gaming trends,Strong analytical frame of mind,Excellent programming skills,Ability to work as part of a team\",\n",
    "# \"Collaboration,Time management,Criticaial Thinking,Effective communication, Creativity,Stortelling ability,Adaptablity,Programming knwoldge,Multimedia Development software,Persistence\",\n",
    "# \"The Swift 3.0 programming language,Apple's Xcode IDE,Spatial Reasoning,Design Guidelines,UI and UX design experience,Apple Human Interface Guidelines,Networking,Core Data,Grand Central Dispatch\",\n",
    "# \"Knowledge of Object-Oriented Programming,design,Work experience with at least one of the Java frameworks,Knowledge of relational databases,SQL,ORM,HTML,CSS,JavaScript,JQuery,Proficient in Java,JavaScript,javaApplts,java Servlets,Java Beans,Excellent communication skills,Interpersonal Skills,Motivated team player,ability to reflect leadership skills,MVC,JDBC,JSP,SOAP,RESTful,SWING,SWT,AWT,Junit,TESTNG,Spoock,Mockito,problem-solving\",\n",
    "# \"Statistics,Probability,Data Modeling,Programing Skills,Programming Fundamentals,Applying ML Libraries & Algorithms,Software Design,Python,R,C,C++\",\n",
    "# \"Node js,Mongo DB,Angular js,Express Js,DEvelop,Test,fast,robust, highly responsive,relational databases,non-relational databases,development environment tools,development environment tools,PHP, jQuery, MySQL, Symfony, OOPS\",\n",
    "# \"MongoDB,Express JS,React, NodeJS,HTML5,CSS3,JavaScript,GitHub,Git,Python,Java,Ruby,Web architecture,HTTP and REST,Database storage,relational data,Knowledge of NoSQL databases,Knowledge of web storage,Basic design skills,NPM,Soft skills\",\n",
    "# \"Secure network architecture,Vulnerability testing,Threat modeling,Virtualization technologies,Cloud security,Firewalls,Encryption solutions,Secure coding practices,Innovation,Collaboration,Problem solving,Communication\",\n",
    "# \"Node.js,Web application frameworks,Security,Databases,Package management,Source control,Oops concepts,Callback function,Mongodb,NPM,Express,RESTful APIs, Front-End Technologies,Asynchronous Programming,Authorization\",\n",
    "# \"PHP,Ajax,jQuery,MySQL,JavaScript,CSS,HTML,APIs,Unix,Linux, MVC Framework Architecture,PHPUnit- a unit testing framework,PHP- an open-source web framework,Photoshop,similar design tool,Good communication skills,A knack for problem-solving,The ability to think critically\",\n",
    "# \"Core Python,Web Frameworks,Object Relational Mappers,Data Scientists,achine Learning Skill,Artificial Intelligence,Deep Learning,Multi-Process Architecture,Analytical Skills,Design Skills,Communication Skills,Version Control,Front-End Technologies Knowledge,The Ability of Integration,Server-Side Templating Language,Event-Driven programming, Good Debugging,Unit Test Skills,Code Versioning, Database Schemas Creation Ability, Logical Thinking Ability\",\n",
    "# \"React.js,DOM manipulation,JavaScript,JavaScript object model,React.js,React.js workflows, Flux,Redux,EcmaScript,data structure libraries,RESTful APIs,SON Web Token,Babel,Webpack,NPM, technical requirements, optimization,Git,SVN,Mercurial\",\n",
    "# \"JavaScript,native iOS, Android development,React assumptions,Sentry,Bitrise,App Center,Redux,ESLint,Jest,React Native Testing Library,Problem-solving approach\",\n",
    "# \"Problem-Solving and Administration,Networking,Cloud ,Automation and Scripting,Security and Monitoring,Account Access Management,IoT/Mobile Device Management,Scripting Languages,Hardware Management,SQL\",\n",
    "# \"Research,Information Architecture,Wireframing,Prototyping,Visual Communication,Communication,Collaboration,UX research,UI prototyping,UX writing,User empathy,Interaction design,Coding,Analytics,Communication skills\",\n",
    "# \"HTML,CSS skills,Analytical skills,Responsive design skills,JavaScript skills,Interpersonal skills,TestingSkills, debugging skills,Back-end basics,Search engine optimization,SEO\"]\n",
    "\n",
    "\n",
    "# path=['datasets/Android_Developer.csv','datasets/Artificial_Intilligence.csv','datasets/Backend_Developer.csv','datasets/Business_Analyst.csv',\n",
    "#      'datasets/Cloud_Computing.csv','datasets/Data_Analyst.csv','datasets/Data_Scientist.csv','datasets/Deep_Learning.csv',\n",
    "#      'datasets/Devops_Engineer.csv','datasets/Flutter_Developer.csv','datasets/Full_Stack_Developer.csv','datasets/Game_Artist.csv',\n",
    "#      'datasets/Game_Designer.csv','datasets/Game_Developer.csv','datasets/iOS_Developer.csv','datasets/Java_Developer.csv',\n",
    "#      'datasets/Machine_Learning.csv','datasets/MEAN_Stack_Developer.csv','datasets/MERN_Stack_Developer.csv','datasets/Network_Security_Engineer.csv',\n",
    "#      'datasets/Node_Js_Developer.csv','datasets/PHP_Developer.csv','datasets/Python_Developer.csv','datasets/React_Js_Developer.csv',\n",
    "#      'datasets/React_Native_Developer.csv','datasets/System_Administrator.csv','datasets/UI_UX_Developer.csv','datasets/Web_Developer.csv']\n",
    "# minimum=[400000,500000,400000,500000,600000,400000,700000,500000,800000,400000,500000,300000,400000,500000,800000,500000,600000,300000,400000,500000,400000,300000,400000,500000,450000,300000,350000,400000]\n",
    "# maximum=[800000,600000,600000,600000,800000,900000,1000000,600000,1000000,600000,700000,700000,600000,700000,1000000,600000,800000,800000,600000,600000,500000,600000,800000,700000,600000,700000,1000000,750000]\n",
    "# no_of_turn=[197, 181, 233, 208, 201, 173, 180, 247, 159, 218, 178, 250, 189, 222, 194, 198, 203, 226, 229, 213, 207, 247, 211, 229, 211, 247, 182,211]\n",
    "# print(len(minimum))\n",
    "# print(len(maximum))\n",
    "# print(len(path))\n",
    "# print(len(skills))\n",
    "# print(len(no_of_turn))\n",
    "# print(len(filename))"
   ]
  },
  {
   "cell_type": "code",
   "execution_count": 55,
   "metadata": {},
   "outputs": [],
   "source": [
    "# column_names = ['Job_Name','Company_Name','Location','Salary','Description','Skills']\n",
    "\n",
    "\n",
    "\n",
    "# def random_fn(Job_name):\n",
    "#     return random.choice(Job_name)\n",
    "    \n",
    "# for i in range(0,len(filename)):\n",
    "#     Job_name=filename[i].Job_Name.to_list()\n",
    "# #     print(Job_name)\n",
    "# #     Job_name.remove('Job_Name')\n",
    "# #     print(Job_name)\n",
    "\n",
    "#     Company_name=filename[i].Company_Name.to_list()\n",
    "# #     print(Company_name)\n",
    "# #     Company_name.remove('Company_Name')\n",
    "# #     print(Company_name)\n",
    "\n",
    "#     Location=filename[i].Location.to_list()\n",
    "# #     print(Location)\n",
    "# #     Location.remove('Location')\n",
    "# #     print(Location)\n",
    "\n",
    " \n",
    "\n",
    "#     Description=filename[i].Description.to_list()\n",
    "# #     print(Description)\n",
    "# #     Description.remove('Description')\n",
    "# #     print(Description)\n",
    "\n",
    "#     file = open(path[i], 'a+',encoding=\"utf8\", errors='ignore', newline ='') \n",
    "#     with file: \n",
    "#     # identifying header   \n",
    "#         header = ['Job_Name','Company_Name','Location','Salary','Description','Skills'] \n",
    "#         writer = csv.DictWriter(file, fieldnames = header) \n",
    "        \n",
    "#         for j in range(0,no_of_turn[i]):\n",
    "#             random_Job_name=random_fn(Job_name)\n",
    "#             random_Company_name=random_fn(Company_name)\n",
    "#             random_Location=random_fn(Location)\n",
    "#             random_Description=random_fn(Description)\n",
    "#             writer.writerow({'Job_Name' : random_Job_name,  \n",
    "#                              'Company_Name': random_Company_name,  \n",
    "#                              'Location': random_Location,\n",
    "#                              'Salary' :  random.randrange(minimum[i],maximum[i],10000),\n",
    "#                              'Description' :  random_Description,\n",
    "#                              'Skills' :skills[i]}) \n",
    "#     file.close()"
   ]
  }
 ],
 "metadata": {
  "kernelspec": {
   "display_name": "Python 3",
   "language": "python",
   "name": "python3"
  },
  "language_info": {
   "codemirror_mode": {
    "name": "ipython",
    "version": 3
   },
   "file_extension": ".py",
   "mimetype": "text/x-python",
   "name": "python",
   "nbconvert_exporter": "python",
   "pygments_lexer": "ipython3",
   "version": "3.8.3"
  }
 },
 "nbformat": 4,
 "nbformat_minor": 4
}
