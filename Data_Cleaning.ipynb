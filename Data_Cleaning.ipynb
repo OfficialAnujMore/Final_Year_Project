{
 "cells": [
  {
   "cell_type": "code",
   "execution_count": 1,
   "metadata": {},
   "outputs": [],
   "source": [
    "import pandas as pd\n",
    "import numpy as np\n",
    "import random\n",
    "import seaborn as sns\n",
    "import time\n",
    "import matplotlib.pyplot as plt \n",
    "import random\n",
    "import csv "
   ]
  },
  {
   "cell_type": "code",
   "execution_count": null,
   "metadata": {},
   "outputs": [],
   "source": []
  },
  {
   "cell_type": "code",
   "execution_count": 2,
   "metadata": {},
   "outputs": [
    {
     "data": {
      "text/plain": [
       "<Figure size 1440x720 with 0 Axes>"
      ]
     },
     "execution_count": 2,
     "metadata": {},
     "output_type": "execute_result"
    },
    {
     "data": {
      "text/plain": [
       "<Figure size 1440x720 with 0 Axes>"
      ]
     },
     "metadata": {},
     "output_type": "display_data"
    }
   ],
   "source": [
    "pd.set_option('display.max_rows',100)\n",
    "pd.set_option('display.max_columns',100)\n",
    "pd.set_option('max_colwidth',800)\n",
    "\n",
    "plt.figure(figsize=(20,10))\n",
    "# plt.subplots(figsize=(20,20))"
   ]
  },
  {
   "cell_type": "code",
   "execution_count": 3,
   "metadata": {},
   "outputs": [],
   "source": [
    "#nothing chaged just trial push\n",
    "android_dev = pd.read_csv('datasets/Android_Developer.csv')\n",
    "ai = pd.read_csv('datasets/Artificial_Intilligence.csv')\n",
    "backend_dev = pd.read_csv('datasets/Backend_Developer.csv')\n",
    "business_analyst = pd.read_csv('datasets/Business_Analyst.csv')\n",
    "cloud_computing = pd.read_csv('datasets/Cloud_Computing.csv')\n",
    "data_analyst = pd.read_csv('datasets/Data_Analyst.csv')\n",
    "data_scientist = pd.read_csv('datasets/Data_Scientist.csv')\n",
    "deep_learning = pd.read_csv('datasets/Deep_Learning.csv')\n",
    "devops = pd.read_csv('datasets/Devops_Engineer.csv')\n",
    "flutter_dev = pd.read_csv('datasets/Flutter_Developer.csv')\n",
    "full_stack_dev = pd.read_csv('datasets/Full_Stack_Developer.csv')\n",
    "game_artist = pd.read_csv('datasets/Game_Artist.csv')\n",
    "game_designer = pd.read_csv('datasets/Game_Designer.csv')\n",
    "game_developer = pd.read_csv('datasets/Game_Developer.csv')\n",
    "iOS_dev = pd.read_csv('datasets/iOS_Developer.csv')\n",
    "java_dev = pd.read_csv('datasets/Java_Developer.csv')\n",
    "ml = pd.read_csv('datasets/Machine_Learning.csv')\n",
    "mean = pd.read_csv('datasets/MEAN_Stack_Developer.csv')\n",
    "mern = pd.read_csv('datasets/MERN_Stack_Developer.csv')\n",
    "net_security_engg = pd.read_csv('datasets/Network_Security_Engineer.csv')\n",
    "node_js = pd.read_csv('datasets/Node_Js_Developer.csv')\n",
    "php_dev = pd.read_csv('datasets/PHP_Developer.csv')\n",
    "py_dev = pd.read_csv('datasets/Python_Developer.csv')\n",
    "react_js= pd.read_csv('datasets/React_Js_Developer.csv')\n",
    "react_native_dev = pd.read_csv('datasets/React_Native_Developer.csv')\n",
    "sys_admin = pd.read_csv('datasets/System_Administrator.csv')\n",
    "ui_ux = pd.read_csv('datasets/UI_UX_Developer.csv')\n",
    "web_dev = pd.read_csv('datasets/Web_Developer.csv')"
   ]
  },
  {
   "cell_type": "code",
   "execution_count": 4,
   "metadata": {},
   "outputs": [
    {
     "name": "stdout",
     "output_type": "stream",
     "text": [
      "28\n"
     ]
    }
   ],
   "source": [
    "filename = [ android_dev, ai, backend_dev, business_analyst, cloud_computing, data_analyst, data_scientist, \n",
    "            deep_learning, devops, flutter_dev, full_stack_dev, game_artist, game_designer,game_developer, iOS_dev, java_dev, ml, mean, mern, \n",
    "            net_security_engg, node_js, php_dev, py_dev, react_js, react_native_dev, sys_admin, ui_ux, web_dev]\n",
    "print(len(filename))"
   ]
  },
  {
   "cell_type": "code",
   "execution_count": 36,
   "metadata": {},
   "outputs": [
    {
     "data": {
      "text/html": [
       "<div>\n",
       "<style scoped>\n",
       "    .dataframe tbody tr th:only-of-type {\n",
       "        vertical-align: middle;\n",
       "    }\n",
       "\n",
       "    .dataframe tbody tr th {\n",
       "        vertical-align: top;\n",
       "    }\n",
       "\n",
       "    .dataframe thead th {\n",
       "        text-align: right;\n",
       "    }\n",
       "</style>\n",
       "<table border=\"1\" class=\"dataframe\">\n",
       "  <thead>\n",
       "    <tr style=\"text-align: right;\">\n",
       "      <th></th>\n",
       "      <th>Job Name</th>\n",
       "      <th>Company Name</th>\n",
       "      <th>Location</th>\n",
       "      <th>Salary</th>\n",
       "      <th>Description</th>\n",
       "      <th>Skills</th>\n",
       "    </tr>\n",
       "  </thead>\n",
       "  <tbody>\n",
       "    <tr>\n",
       "      <th>0</th>\n",
       "      <td>Flutter Developer</td>\n",
       "      <td>Tummo Labs</td>\n",
       "      <td>Remote</td>\n",
       "      <td>15000 - 20000</td>\n",
       "      <td>Job Description - Mobile App Developer*.We are...</td>\n",
       "      <td>Good knowledge of Git,Understanding of Compute...</td>\n",
       "    </tr>\n",
       "    <tr>\n",
       "      <th>1</th>\n",
       "      <td>Flutter Developer</td>\n",
       "      <td>ixiono pte ltd</td>\n",
       "      <td>New Delhi, Delhi</td>\n",
       "      <td>NaN</td>\n",
       "      <td>We are looking for a Flutter developer who is ...</td>\n",
       "      <td>Good knowledge of Git,Understanding of Compute...</td>\n",
       "    </tr>\n",
       "    <tr>\n",
       "      <th>2</th>\n",
       "      <td>Flutter Developer Job In Ahmedabad</td>\n",
       "      <td>Addis Infotech</td>\n",
       "      <td>Ahmedabad, Gujarat</td>\n",
       "      <td>40000</td>\n",
       "      <td>We are looking for a Flutter developer to work...</td>\n",
       "      <td>Good knowledge of Git,Understanding of Compute...</td>\n",
       "    </tr>\n",
       "    <tr>\n",
       "      <th>3</th>\n",
       "      <td>Mobile Application Developer (Flutter)</td>\n",
       "      <td>Conexus</td>\n",
       "      <td>Navi Mumbai, Maharashtra</td>\n",
       "      <td>20000 - 30000</td>\n",
       "      <td>Conexus is a fast growing ITES company based i...</td>\n",
       "      <td>Good knowledge of Git,Understanding of Compute...</td>\n",
       "    </tr>\n",
       "    <tr>\n",
       "      <th>4</th>\n",
       "      <td>Laravel Developer, Flutter Developer Required</td>\n",
       "      <td>Media City</td>\n",
       "      <td>Jaipur, Rajasthan</td>\n",
       "      <td>10000 - 35000</td>\n",
       "      <td>Flutter, Dart, Android app developer.Salary: ₹...</td>\n",
       "      <td>Good knowledge of Git,Understanding of Compute...</td>\n",
       "    </tr>\n",
       "    <tr>\n",
       "      <th>...</th>\n",
       "      <td>...</td>\n",
       "      <td>...</td>\n",
       "      <td>...</td>\n",
       "      <td>...</td>\n",
       "      <td>...</td>\n",
       "      <td>...</td>\n",
       "    </tr>\n",
       "    <tr>\n",
       "      <th>75</th>\n",
       "      <td>Technical Lead (DevOps - AWS)</td>\n",
       "      <td>Zenoti</td>\n",
       "      <td>Hyderabad, Telangana</td>\n",
       "      <td>NaN</td>\n",
       "      <td>Collaborate with a team of product managers, d...</td>\n",
       "      <td>Good knowledge of Git,Understanding of Compute...</td>\n",
       "    </tr>\n",
       "    <tr>\n",
       "      <th>76</th>\n",
       "      <td>Technical Lead (DevOps - AWS)</td>\n",
       "      <td>Zenoti</td>\n",
       "      <td>Hyderabad, Telangana</td>\n",
       "      <td>NaN</td>\n",
       "      <td>Collaborate with a team of product managers, d...</td>\n",
       "      <td>Good knowledge of Git,Understanding of Compute...</td>\n",
       "    </tr>\n",
       "    <tr>\n",
       "      <th>77</th>\n",
       "      <td>Technical Lead (DevOps - AWS)</td>\n",
       "      <td>Zenoti</td>\n",
       "      <td>Hyderabad, Telangana</td>\n",
       "      <td>NaN</td>\n",
       "      <td>Collaborate with a team of product managers, d...</td>\n",
       "      <td>Good knowledge of Git,Understanding of Compute...</td>\n",
       "    </tr>\n",
       "    <tr>\n",
       "      <th>78</th>\n",
       "      <td>Technical Lead (DevOps - AWS)</td>\n",
       "      <td>Zenoti</td>\n",
       "      <td>Hyderabad, Telangana</td>\n",
       "      <td>NaN</td>\n",
       "      <td>Collaborate with a team of product managers, d...</td>\n",
       "      <td>Good knowledge of Git,Understanding of Compute...</td>\n",
       "    </tr>\n",
       "    <tr>\n",
       "      <th>79</th>\n",
       "      <td>Technical Lead (DevOps - AWS)</td>\n",
       "      <td>Zenoti</td>\n",
       "      <td>Hyderabad, Telangana</td>\n",
       "      <td>NaN</td>\n",
       "      <td>Collaborate with a team of product managers, d...</td>\n",
       "      <td>Good knowledge of Git,Understanding of Compute...</td>\n",
       "    </tr>\n",
       "  </tbody>\n",
       "</table>\n",
       "<p>80 rows × 6 columns</p>\n",
       "</div>"
      ],
      "text/plain": [
       "                                         Job Name    Company Name  \\\n",
       "0                               Flutter Developer      Tummo Labs   \n",
       "1                               Flutter Developer  ixiono pte ltd   \n",
       "2              Flutter Developer Job In Ahmedabad  Addis Infotech   \n",
       "3          Mobile Application Developer (Flutter)         Conexus   \n",
       "4   Laravel Developer, Flutter Developer Required      Media City   \n",
       "..                                            ...             ...   \n",
       "75                  Technical Lead (DevOps - AWS)          Zenoti   \n",
       "76                  Technical Lead (DevOps - AWS)          Zenoti   \n",
       "77                  Technical Lead (DevOps - AWS)          Zenoti   \n",
       "78                  Technical Lead (DevOps - AWS)          Zenoti   \n",
       "79                  Technical Lead (DevOps - AWS)          Zenoti   \n",
       "\n",
       "                    Location         Salary  \\\n",
       "0                     Remote  15000 - 20000   \n",
       "1           New Delhi, Delhi            NaN   \n",
       "2         Ahmedabad, Gujarat          40000   \n",
       "3   Navi Mumbai, Maharashtra  20000 - 30000   \n",
       "4          Jaipur, Rajasthan  10000 - 35000   \n",
       "..                       ...            ...   \n",
       "75      Hyderabad, Telangana            NaN   \n",
       "76      Hyderabad, Telangana            NaN   \n",
       "77      Hyderabad, Telangana            NaN   \n",
       "78      Hyderabad, Telangana            NaN   \n",
       "79      Hyderabad, Telangana            NaN   \n",
       "\n",
       "                                          Description  \\\n",
       "0   Job Description - Mobile App Developer*.We are...   \n",
       "1   We are looking for a Flutter developer who is ...   \n",
       "2   We are looking for a Flutter developer to work...   \n",
       "3   Conexus is a fast growing ITES company based i...   \n",
       "4   Flutter, Dart, Android app developer.Salary: ₹...   \n",
       "..                                                ...   \n",
       "75  Collaborate with a team of product managers, d...   \n",
       "76  Collaborate with a team of product managers, d...   \n",
       "77  Collaborate with a team of product managers, d...   \n",
       "78  Collaborate with a team of product managers, d...   \n",
       "79  Collaborate with a team of product managers, d...   \n",
       "\n",
       "                                               Skills  \n",
       "0   Good knowledge of Git,Understanding of Compute...  \n",
       "1   Good knowledge of Git,Understanding of Compute...  \n",
       "2   Good knowledge of Git,Understanding of Compute...  \n",
       "3   Good knowledge of Git,Understanding of Compute...  \n",
       "4   Good knowledge of Git,Understanding of Compute...  \n",
       "..                                                ...  \n",
       "75  Good knowledge of Git,Understanding of Compute...  \n",
       "76  Good knowledge of Git,Understanding of Compute...  \n",
       "77  Good knowledge of Git,Understanding of Compute...  \n",
       "78  Good knowledge of Git,Understanding of Compute...  \n",
       "79  Good knowledge of Git,Understanding of Compute...  \n",
       "\n",
       "[80 rows x 6 columns]"
      ]
     },
     "execution_count": 36,
     "metadata": {},
     "output_type": "execute_result"
    }
   ],
   "source": [
    "flutter_dev"
   ]
  },
  {
   "cell_type": "code",
   "execution_count": 37,
   "metadata": {},
   "outputs": [
    {
     "data": {
      "text/plain": [
       "(80, 6)"
      ]
     },
     "execution_count": 37,
     "metadata": {},
     "output_type": "execute_result"
    }
   ],
   "source": [
    "android_dev.shape"
   ]
  },
  {
   "cell_type": "markdown",
   "metadata": {},
   "source": [
    "# Dropping Duplicate Values from each DataFrame"
   ]
  },
  {
   "cell_type": "code",
   "execution_count": 67,
   "metadata": {},
   "outputs": [],
   "source": [
    "def Duplicate_Dropper(dataframe_name):\n",
    "    for i in range(0,len(dataframe_name)):\n",
    "        dataframe_name[i].drop_duplicates(subset=\"Description\", keep= 'first', inplace=True)\n",
    "    \n",
    "Duplicate_Dropper(filename)"
   ]
  },
  {
   "cell_type": "code",
   "execution_count": 68,
   "metadata": {},
   "outputs": [],
   "source": [
    "react_native_dev.drop(10,inplace=True)"
   ]
  },
  {
   "cell_type": "markdown",
   "metadata": {},
   "source": [
    "# Replacing NAN Values"
   ]
  },
  {
   "cell_type": "code",
   "execution_count": 69,
   "metadata": {},
   "outputs": [],
   "source": [
    "def NA_filler(dataframe_name):\n",
    "    for i in range(0,len(dataframe_name)):\n",
    "        dataframe_name[i]['Salary'].fillna('',inplace=True)\n",
    "\n",
    "NA_filler(filename)"
   ]
  },
  {
   "cell_type": "code",
   "execution_count": null,
   "metadata": {},
   "outputs": [],
   "source": []
  },
  {
   "cell_type": "markdown",
   "metadata": {},
   "source": [
    "# Salary Cleaning"
   ]
  },
  {
   "cell_type": "code",
   "execution_count": 70,
   "metadata": {
    "scrolled": false
   },
   "outputs": [],
   "source": [
    "\n",
    "def Salary_Cleaning(salary):\n",
    "    \n",
    "    sal = salary.split('-')\n",
    "    if len(sal)==2:\n",
    "        added_sal = (float(sal[0]) + float(sal[1]))//2\n",
    "        if added_sal <100000:\n",
    "            converted_sal = added_sal*12\n",
    "            return converted_sal\n",
    "        else:\n",
    "            return added_sal\n",
    "    try:\n",
    "        return float(sal[0])\n",
    "    except Exception as e:\n",
    " \n",
    "        return None"
   ]
  },
  {
   "cell_type": "markdown",
   "metadata": {},
   "source": [
    "# Calling Salary Cleaner"
   ]
  },
  {
   "cell_type": "code",
   "execution_count": 71,
   "metadata": {},
   "outputs": [],
   "source": [
    "def calling_salary_cleaning(dataframe_name):\n",
    "    for i in range(0,len(dataframe_name)):\n",
    "            dataframe_name[i]['Yearly Salary'] = dataframe_name[i]['Salary'].apply(Salary_Cleaning)\n",
    "            \n",
    "calling_salary_cleaning(filename)"
   ]
  },
  {
   "cell_type": "markdown",
   "metadata": {},
   "source": [
    "# Converting outlier salary"
   ]
  },
  {
   "cell_type": "code",
   "execution_count": 72,
   "metadata": {},
   "outputs": [],
   "source": [
    "def Lower_Salary(salary):\n",
    "    if salary <=99999:\n",
    "        sal = salary*12\n",
    "        return sal\n",
    "    else:\n",
    "        return salary\n"
   ]
  },
  {
   "cell_type": "markdown",
   "metadata": {},
   "source": [
    "# Calling Lower Salary"
   ]
  },
  {
   "cell_type": "code",
   "execution_count": 73,
   "metadata": {},
   "outputs": [],
   "source": [
    "def calling_lower_salary(dataframe_name):\n",
    "    for i in range(0,len(dataframe_name)):\n",
    "        dataframe_name[i]['Yearly Salary'] = dataframe_name[i]['Yearly Salary'].apply(Lower_Salary)\n",
    "\n",
    "calling_lower_salary(filename)"
   ]
  },
  {
   "cell_type": "code",
   "execution_count": null,
   "metadata": {},
   "outputs": [],
   "source": []
  },
  {
   "cell_type": "markdown",
   "metadata": {},
   "source": [
    "# Predicting NaN values"
   ]
  },
  {
   "cell_type": "code",
   "execution_count": 74,
   "metadata": {},
   "outputs": [],
   "source": [
    "def predicting_nan_values(dataframe_name):\n",
    "    for i in range(0,len(dataframe_name)):\n",
    "        dataframe_name[i]['Yearly Salary'] = round(dataframe_name[i]['Yearly Salary'].interpolate())\n",
    "        dataframe_name[i]['Yearly Salary'] = dataframe_name[i]['Yearly Salary'].fillna(method='bfill')\n",
    "        dataframe_name[i]['Yearly Salary'] = dataframe_name[i]['Yearly Salary'].fillna(method='ffill')\n",
    "        \n",
    "\n",
    "predicting_nan_values(filename)"
   ]
  },
  {
   "cell_type": "markdown",
   "metadata": {},
   "source": [
    "# Check for nan value"
   ]
  },
  {
   "cell_type": "code",
   "execution_count": 75,
   "metadata": {},
   "outputs": [
    {
     "data": {
      "text/plain": [
       "<matplotlib.axes._subplots.AxesSubplot at 0x2752e03f7c0>"
      ]
     },
     "execution_count": 75,
     "metadata": {},
     "output_type": "execute_result"
    },
    {
     "data": {
      "image/png": "[encoded data removed]",
      "text/plain": [
       "<Figure size 432x288 with 2 Axes>"
      ]
     },
     "metadata": {
      "needs_background": "light"
     },
     "output_type": "display_data"
    }
   ],
   "source": [
    "sns.heatmap(react_js.isnull())"
   ]
  },
  {
   "cell_type": "markdown",
   "metadata": {},
   "source": []
  },
  {
   "cell_type": "code",
   "execution_count": null,
   "metadata": {},
   "outputs": [],
   "source": []
  },
  {
   "cell_type": "code",
   "execution_count": null,
   "metadata": {},
   "outputs": [],
   "source": []
  },
  {
   "cell_type": "markdown",
   "metadata": {},
   "source": []
  },
  {
   "cell_type": "code",
   "execution_count": null,
   "metadata": {},
   "outputs": [],
   "source": []
  },
  {
   "cell_type": "code",
   "execution_count": null,
   "metadata": {},
   "outputs": [],
   "source": []
  },
  {
   "cell_type": "code",
   "execution_count": 76,
   "metadata": {},
   "outputs": [],
   "source": [
    "for i in range(0,len(demo_list)):\n",
    "    if demo_list[i] in demo:\n",
    "        print(demo_list[i])\n",
    "        \n",
    "        \n",
    "    \n",
    "\n",
    "def skill_checker(android_dev):\n",
    "    for i in range(0, len(android_dev)):\n",
    "        \n",
    "        for j in range(0,len(demo_list)):\n",
    "            if demo_list[j] in android_dev['Description'].tolist():\n",
    "                android_dev['Skills'] = demo_list[i]\n",
    "            \n",
    "skill_checker(android_dev)\n",
    "print(len(android_dev['Description']))\n",
    "\n",
    "\n",
    "\n",
    "# def skill_checker(dataframe_name):\n",
    "#     for i in range(0, len(dataframe_name)):\n",
    "        \n",
    "#         for i in range(0,len(demo_list)):\n",
    "#         if demo_list[i] in android_dev['Description']:\n",
    "#             print(demo_list[i])\n",
    "            \n",
    "# skill_checker(filename)\n",
    "\n",
    "\n",
    "x = android_dev['Description'].tolist()\n",
    "\n",
    "for i in range(0,len(x)):\n",
    "    for j in range(0,len(demo_list)):\n",
    "        if demo_list[j] in x[i]:\n",
    "            android_dev['Skills'] = demo_list[j]\n",
    "            return android_dev['Skills']\n",
    "        else:\n",
    "            return None\n",
    "#         print(x[i],demo_list[j])\n",
    "#         print(demo_list[j])\n",
    "    "
   ]
  },
  {
   "cell_type": "markdown",
   "metadata": {},
   "source": [
    "# Data Set Range Increasing Code"
   ]
  },
  {
   "cell_type": "code",
   "execution_count": 6,
   "metadata": {},
   "outputs": [
    {
     "name": "stdout",
     "output_type": "stream",
     "text": [
      "28\n",
      "28\n",
      "28\n",
      "28\n",
      "28\n",
      "28\n"
     ]
    }
   ],
   "source": [
    "skills=[\n",
    "\"JAVA,UNDERSTANDING OF XML,ANDROID SDK,ANDROID STUDIO,APIS,DATABASES,MATERIAL DESIGN,Kotlin,UX/UI,Critical Thinking,Cross-Platform,Adaptability\",\n",
    "\"Scala,Java,Python,mathematical skills,knowledge of cloud applications,computer languages,excellent communication,analytical skills,machine learning,intellectual curiosity,business,data science,data statistics,data structures,trees,optimization algorithmsgraphs,linear programming,Bayesian principles,conditional probability, Statistics,probability distribution, Data modeling, model validation, Linear Algebra, Calculus, Statistics, Signal Processing Techniques, Applied Math and Algorithms, Neural Network Architectures\",\n",
    "\"PostgreSQL,MySQL,GraphQL,Node.js,MongoDB,Server Handling,web-frameworks,optimize queries\",\"Consultancy Skills,Technical Understanding,Oral skills, written communication skills,facliation skillss.Interpersonal skills, consultative skills, Problem Solvong, Analyticial thinking, Organizational Skills, Knowledge of business structure\",\n",
    "\"Database skills,Programming skills,Linux,DevOpsQuality Assurance,Information security,cloud technologies,multi-cloud environment,integrated, cloud certifications,DevOps,Measurement,analysis,Presentation Sklls, machine Learning\",\n",
    "\"Structured Query Language,Microsoft Excel,Critical Thinking,Python-Statistical Programming,Data Visualization,Data Visualization,Spreadsheets,Public speaking,Research,Collaboration,Writing,Statistics\",\n",
    "\"Statistics,R,Python,Data Extraction,Data Transformation,Data Loading,Data Wrangling , Data Exploration,Machine Learning Algorithms,Advanced Machine Learning (Deep Learning),Big Data Processing Frameworks ,Data Visualization\",\n",
    "\"Deep Learning with TensorFlow,TensorFlow,Natural Language Processing,NLP,Robotic Process Automation,Deep Learning,Machine Learning,AI\",\n",
    "\"Linux Fundamentals,Scripting,Knowledge On Various DevOps,Technologies,Continuous Integration,Continuous Delivery,Infrastructure As Code,Key concepts of DevOps,Soft skills,Strong Communication,Collaboration Skills, Software Security Skills,Testing Skills,Proactivity\",\n",
    "\"Good knowledge of Git,Understanding of Computer Science,software development life cycle,Strong knowledge of different architecture approaches,Experience with GoF patterns,Knowledge of SQL,Fix bugs,Write clean code,Investigate technologies,Follow new trends,Strong knowledge of networking,Experience in programming languages for mobile development Kotlin or Swift,Knowledge of Dart programming language,Understanding of Flutter framework,Experience in Android ,Experience in IOS\",\n",
    "\"HTML5,CSS3,JavaScript,GitHub,Git,Python,Java,Ruby,Web architecture,HTTP and REST,Database storage,relational data,Knowledge of NoSQL databases,Knowledge of web storage,Basic design skills,NPM,Soft skills\",\n",
    "\"Strong IT skills,Problem-solving aptitude,Time management skills,Creativity and culture,Communication skills,Stay abreast of industry developments,Database design,implementation and management,Software Development Frameworks,Virtual Reality Software Design,User Interface Design,IT Professional Practice Project,C++,Level design,Game Development,Adobe Photoshop,Maya,EPIC Unreal Engine,Zbrush,Research,Organizational Skills,Writing,Problem Solving,Communication Skills,Creativity,Collaboration,Teamwork\",\n",
    "\"Creativity,Artistic vision,A passion for video games,Storytelling ability,Wide-ranging knowledge of gaming trends,Strong analytical frame of mind,Excellent programming skills,Ability to work as part of a team\",\n",
    "\"Collaboration,Time management,Criticaial Thinking,Effective communication, Creativity,Stortelling ability,Adaptablity,Programming knwoldge,Multimedia Development software,Persistence\",\n",
    "\"The Swift 3.0 programming language,Apple's Xcode IDE,Spatial Reasoning,Design Guidelines,UI and UX design experience,Apple Human Interface Guidelines,Networking,Core Data,Grand Central Dispatch\",\n",
    "\"Knowledge of Object-Oriented Programming,design,Work experience with at least one of the Java frameworks,Knowledge of relational databases,SQL,ORM,HTML,CSS,JavaScript,JQuery,Proficient in Java,JavaScript,javaApplts,java Servlets,Java Beans,Excellent communication skills,Interpersonal Skills,Motivated team player,ability to reflect leadership skills,MVC,JDBC,JSP,SOAP,RESTful,SWING,SWT,AWT,Junit,TESTNG,Spoock,Mockito,problem-solving\",\n",
    "\"Statistics,Probability,Data Modeling,Programing Skills,Programming Fundamentals,Applying ML Libraries & Algorithms,Software Design,Python,R,C,C++\",\n",
    "\"Node js,Mongo DB,Angular js,Express Js,DEvelop,Test,fast,robust, highly responsive,relational databases,non-relational databases,development environment tools,development environment tools,PHP, jQuery, MySQL, Symfony, OOPS\",\n",
    "\"MongoDB,Express JS,React, NodeJS,HTML5,CSS3,JavaScript,GitHub,Git,Python,Java,Ruby,Web architecture,HTTP and REST,Database storage,relational data,Knowledge of NoSQL databases,Knowledge of web storage,Basic design skills,NPM,Soft skills\",\n",
    "\"Secure network architecture,Vulnerability testing,Threat modeling,Virtualization technologies,Cloud security,Firewalls,Encryption solutions,Secure coding practices,Innovation,Collaboration,Problem solving,Communication\",\n",
    "\"Node.js,Web application frameworks,Security,Databases,Package management,Source control,Oops concepts,Callback function,Mongodb,NPM,Express,RESTful APIs, Front-End Technologies,Asynchronous Programming,Authorization\",\n",
    "\"PHP,Ajax,jQuery,MySQL,JavaScript,CSS,HTML,APIs,Unix,Linux, MVC Framework Architecture,PHPUnit- a unit testing framework,PHP- an open-source web framework,Photoshop,similar design tool,Good communication skills,A knack for problem-solving,The ability to think critically\",\n",
    "\"Core Python,Web Frameworks,Object Relational Mappers,Data Scientists,achine Learning Skill,Artificial Intelligence,Deep Learning,Multi-Process Architecture,Analytical Skills,Design Skills,Communication Skills,Version Control,Front-End Technologies Knowledge,The Ability of Integration,Server-Side Templating Language,Event-Driven programming, Good Debugging,Unit Test Skills,Code Versioning, Database Schemas Creation Ability, Logical Thinking Ability\",\n",
    "\"React.js,DOM manipulation,JavaScript,JavaScript object model,React.js,React.js workflows, Flux,Redux,EcmaScript,data structure libraries,RESTful APIs,SON Web Token,Babel,Webpack,NPM, technical requirements, optimization,Git,SVN,Mercurial\",\n",
    "\"JavaScript,native iOS, Android development,React assumptions,Sentry,Bitrise,App Center,Redux,ESLint,Jest,React Native Testing Library,Problem-solving approach\",\n",
    "\"Problem-Solving and Administration,Networking,Cloud ,Automation and Scripting,Security and Monitoring,Account Access Management,IoT/Mobile Device Management,Scripting Languages,Hardware Management,SQL\",\n",
    "\"Research,Information Architecture,Wireframing,Prototyping,Visual Communication,Communication,Collaboration,UX research,UI prototyping,UX writing,User empathy,Interaction design,Coding,Analytics,Communication skills\",\n",
    "\"HTML,CSS skills,Analytical skills,Responsive design skills,JavaScript skills,Interpersonal skills,TestingSkills, debugging skills,Back-end basics,Search engine optimization,SEO\"]\n",
    "\n",
    "\n",
    "path=['datasets/Android_Developer.csv','datasets/Artificial_Intilligence.csv','datasets/Backend_Developer.csv','datasets/Business_Analyst.csv',\n",
    "     'datasets/Cloud_Computing.csv','datasets/Data_Analyst.csv','datasets/Data_Scientist.csv','datasets/Deep_Learning.csv',\n",
    "     'datasets/Devops_Engineer.csv','datasets/Flutter_Developer.csv','datasets/Full_Stack_Developer.csv','datasets/Game_Artist.csv',\n",
    "     'datasets/Game_Designer.csv','datasets/Game_Developer.csv','datasets/iOS_Developer.csv','datasets/Java_Developer.csv',\n",
    "     'datasets/Machine_Learning.csv','datasets/MEAN_Stack_Developer.csv','datasets/MERN_Stack_Developer.csv','datasets/Network_Security_Engineer.csv',\n",
    "     'datasets/Node_Js_Developer.csv','datasets/PHP_Developer.csv','datasets/Python_Developer.csv','datasets/React_Js_Developer.csv',\n",
    "     'datasets/React_Native_Developer.csv','datasets/System_Administrator.csv','datasets/UI_UX_Developer.csv','datasets/Web_Developer.csv']\n",
    "minimum=[400000,500000,400000,500000,600000,400000,700000,500000,800000,400000,500000,300000,400000,500000,800000,500000,600000,300000,400000,500000,400000,300000,400000,500000,450000,300000,350000,400000]\n",
    "maximum=[800000,600000,600000,600000,800000,900000,1000000,600000,1000000,600000,700000,700000,600000,700000,1000000,600000,800000,800000,600000,600000,500000,600000,800000,700000,600000,700000,1000000,750000]\n",
    "no_of_turn=[197, 181, 233, 208, 201, 173, 180, 247, 159, 218, 178, 250, 189, 222, 194, 198, 203, 226, 229, 213, 207, 247, 211, 229, 211, 247, 182,211]\n",
    "print(len(minimum))\n",
    "print(len(maximum))\n",
    "print(len(path))\n",
    "print(len(skills))\n",
    "print(len(no_of_turn))\n",
    "print(len(filename))"
   ]
  },
  {
   "cell_type": "code",
   "execution_count": 7,
   "metadata": {},
   "outputs": [],
   "source": [
    "\n",
    "column_names = ['Job_Name','Company_Name','Location','Salary','Description','Skills']\n",
    "\n",
    "\n",
    "\n",
    "def random_fn(Job_name):\n",
    "    return random.choice(Job_name)\n",
    "    \n",
    "for i in range(0,len(filename)):\n",
    "    Job_name=filename[i].Job_Name.to_list()\n",
    "#     print(Job_name)\n",
    "#     Job_name.remove('Job_Name')\n",
    "#     print(Job_name)\n",
    "\n",
    "    Company_name=filename[i].Company_Name.to_list()\n",
    "#     print(Company_name)\n",
    "#     Company_name.remove('Company_Name')\n",
    "#     print(Company_name)\n",
    "\n",
    "    Location=filename[i].Location.to_list()\n",
    "#     print(Location)\n",
    "#     Location.remove('Location')\n",
    "#     print(Location)\n",
    "\n",
    " \n",
    "\n",
    "    Description=filename[i].Description.to_list()\n",
    "#     print(Description)\n",
    "#     Description.remove('Description')\n",
    "#     print(Description)\n",
    "\n",
    "    file = open(path[i], 'a+',encoding=\"utf8\", errors='ignore', newline ='') \n",
    "    with file: \n",
    "    # identifying header   \n",
    "        header = ['Job_Name','Company_Name','Location','Salary','Description','Skills'] \n",
    "        writer = csv.DictWriter(file, fieldnames = header) \n",
    "        \n",
    "        for j in range(0,no_of_turn[i]):\n",
    "            random_Job_name=random_fn(Job_name)\n",
    "            random_Company_name=random_fn(Company_name)\n",
    "            random_Location=random_fn(Location)\n",
    "            random_Description=random_fn(Description)\n",
    "            writer.writerow({'Job_Name' : random_Job_name,  \n",
    "                             'Company_Name': random_Company_name,  \n",
    "                             'Location': random_Location,\n",
    "                             'Salary' :  random.randrange(minimum[i],maximum[i],10000),\n",
    "                             'Description' :  random_Description,\n",
    "                             'Skills' :skills[i]}) \n",
    "    file.close()"
   ]
  },
  {
   "cell_type": "code",
   "execution_count": null,
   "metadata": {},
   "outputs": [],
   "source": []
  },
  {
   "cell_type": "code",
   "execution_count": 46,
   "metadata": {},
   "outputs": [
    {
     "name": "stdout",
     "output_type": "stream",
     "text": [
      "Scala,Java,Python,mathematical skills,knowledge of cloud applications,computer languages,excellent communication,analytical skills,machine learning,intellectual curiosity,business,data science,data statistics,data structures,trees,optimization algorithmsgraphs,linear programming,Bayesian principles,conditional probability, Statistics,probability distribution, Data modeling, model validation, Linear Algebra, Calculus, Statistics, Signal Processing Techniques, Applied Math and Algorithms, Neural Network Architectures\n"
     ]
    }
   ],
   "source": []
  },
  {
   "cell_type": "code",
   "execution_count": null,
   "metadata": {},
   "outputs": [],
   "source": []
  },
  {
   "cell_type": "code",
   "execution_count": null,
   "metadata": {},
   "outputs": [],
   "source": []
  },
  {
   "cell_type": "code",
   "execution_count": null,
   "metadata": {},
   "outputs": [],
   "source": []
  }
 ],
 "metadata": {
  "kernelspec": {
   "display_name": "Python 3",
   "language": "python",
   "name": "python3"
  },
  "language_info": {
   "codemirror_mode": {
    "name": "ipython",
    "version": 3
   },
   "file_extension": ".py",
   "mimetype": "text/x-python",
   "name": "python",
   "nbconvert_exporter": "python",
   "pygments_lexer": "ipython3",
   "version": "3.7.6"
  }
 },
 "nbformat": 4,
 "nbformat_minor": 4
}
